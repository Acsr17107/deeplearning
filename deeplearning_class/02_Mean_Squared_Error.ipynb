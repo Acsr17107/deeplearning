{
 "cells": [
  {
   "cell_type": "markdown",
   "id": "f24a0133",
   "metadata": {},
   "source": [
    "[<img style=\"float: right;\" src=\"https://raw.githubusercontent.com/taehojo/taehojo.github.io/master/assets/images/linktocolab.png\" /> ](https://colab.research.google.com/github/taehojo/deeplearning-for-everyone-3rd/blob/master/run_project/01_My_First_Deeplearning.ipynbb)"
   ]
  },
  {
   "cell_type": "markdown",
   "id": "fd62dec6",
   "metadata": {},
   "source": [
    "# 4장. 선형 회귀 모델: 가장 훌륭한 예측선 긋기"
   ]
  },
  {
   "cell_type": "markdown",
   "id": "6b7706a6",
   "metadata": {},
   "source": [
    "## 7. 평균 제곱 오차  (MSE)"
   ]
  },
  {
   "cell_type": "markdown",
   "id": "346f3688",
   "metadata": {},
   "source": [
    "### 1. 환경 준비"
   ]
  },
  {
   "cell_type": "code",
   "execution_count": 10,
   "id": "e82bfeb2",
   "metadata": {},
   "outputs": [],
   "source": [
    "import numpy as np"
   ]
  },
  {
   "cell_type": "markdown",
   "id": "7820bec2",
   "metadata": {},
   "source": [
    "### 2. 데이터 준비"
   ]
  },
  {
   "cell_type": "code",
   "execution_count": 21,
   "id": "54f8c22e",
   "metadata": {},
   "outputs": [],
   "source": [
    "#가상의 기울기 a와 y 절편 b을 정합니다.\n",
    "fake_a=3\n",
    "fake_b=76\n",
    "\n",
    "#공부시간 x와 성적 y의 넘파이 배열을 만듭니다.\n",
    "x = np.array([2, 4, 6, 8])\n",
    "y = np.array([81, 93, 91, 97]) "
   ]
  },
  {
   "cell_type": "markdown",
   "id": "ff3871b5",
   "metadata": {},
   "source": [
    "### 3. 평균 제곱 오차 구하기"
   ]
  },
  {
   "cell_type": "code",
   "execution_count": 22,
   "id": "81f5b5b5",
   "metadata": {},
   "outputs": [
    {
     "name": "stdout",
     "output_type": "stream",
     "text": [
      "공부시간=2, 실제점수=81, 예측점수=82\n",
      "공부시간=4, 실제점수=93, 예측점수=88\n",
      "공부시간=6, 실제점수=91, 예측점수=94\n",
      "공부시간=8, 실제점수=97, 예측점수=100\n"
     ]
    }
   ],
   "source": [
    "# y=ax + b에 가상의 a,b 값을 대입한 결과를 출력하는 함수입니다.\n",
    "def predict(x):\n",
    "    return fake_a * x + fake_b\n",
    "\n",
    "# 예측값이 들어갈 빈 리스트를 만듭니다.\n",
    "predict_result = []\n",
    "\n",
    "# 모든 x값을 한 번씩 대입하여 predict_result 리스트를 완성합니다.\n",
    "for i in range(len(x)):\n",
    "    predict_result.append(predict(x[i]))\n",
    "    print(\"공부시간=%.f, 실제점수=%.f, 예측점수=%.f\" % (x[i], y[i], predict(x[i])))"
   ]
  },
  {
   "cell_type": "code",
   "execution_count": 23,
   "id": "cf980c8f",
   "metadata": {},
   "outputs": [
    {
     "name": "stdout",
     "output_type": "stream",
     "text": [
      "평균 제곱 오차: 11.0\n"
     ]
    }
   ],
   "source": [
    "# 평균 제곱 오차 함수를 각 y값에 대입하여 최종 값을 구하는 함수입니다.\n",
    "n=len(x)  \n",
    "def mse(y, y_pred):\n",
    "    return (1/n) * sum((y - y_pred)**2)\n",
    "\n",
    "# 평균 제곱 오차값을 출력합니다.\n",
    "print(\"평균 제곱 오차: \" + str(mse(y,predict_result)))"
   ]
  },
  {
   "cell_type": "code",
   "execution_count": null,
   "id": "7d822b9c",
   "metadata": {},
   "outputs": [],
   "source": []
  }
 ],
 "metadata": {
  "kernelspec": {
   "display_name": "Python 3 (ipykernel)",
   "language": "python",
   "name": "python3"
  },
  "language_info": {
   "codemirror_mode": {
    "name": "ipython",
    "version": 3
   },
   "file_extension": ".py",
   "mimetype": "text/x-python",
   "name": "python",
   "nbconvert_exporter": "python",
   "pygments_lexer": "ipython3",
   "version": "3.8.12"
  }
 },
 "nbformat": 4,
 "nbformat_minor": 5
}
