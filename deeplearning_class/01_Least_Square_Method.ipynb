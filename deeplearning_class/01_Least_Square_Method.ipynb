{
 "cells": [
  {
   "cell_type": "markdown",
   "id": "b3b0519c",
   "metadata": {},
   "source": [
    "[<img style=\"float: right;\" src=\"https://raw.githubusercontent.com/taehojo/taehojo.github.io/master/assets/images/linktocolab.png\" /> ](https://colab.research.google.com/github/taehojo/deeplearning_for_everyone_3rd/blob/master/deeplearning_class/01_Least_Square_Method.ipynb)"
   ]
  },
  {
   "cell_type": "markdown",
   "id": "df693600",
   "metadata": {},
   "source": [
    "# 4장. 선형 회귀: 가장 훌륭한 예측선 긋기"
   ]
  },
  {
   "cell_type": "markdown",
   "id": "cb4bb2c8",
   "metadata": {},
   "source": [
    "## 3. 최소 제곱법"
   ]
  },
  {
   "cell_type": "markdown",
   "id": "8ce90623",
   "metadata": {},
   "source": [
    "### 1. 환경 준비"
   ]
  },
  {
   "cell_type": "code",
   "execution_count": 7,
   "id": "86907981",
   "metadata": {},
   "outputs": [],
   "source": [
    "import numpy as np"
   ]
  },
  {
   "cell_type": "markdown",
   "id": "26e7632f",
   "metadata": {},
   "source": [
    "### 2. 데이터 준비"
   ]
  },
  {
   "cell_type": "code",
   "execution_count": 8,
   "id": "a1678fe5",
   "metadata": {},
   "outputs": [],
   "source": [
    "# 공부한 시간과 점수를 각각 x, y라는 이름의 넘파이 배열로 만듭니다.\n",
    "x = np.array([2, 4, 6, 8])\n",
    "y = np.array([81, 93, 91, 97]) "
   ]
  },
  {
   "cell_type": "markdown",
   "id": "2ad27943",
   "metadata": {},
   "source": [
    "#### [x와 y의 평균값]"
   ]
  },
  {
   "cell_type": "code",
   "execution_count": 9,
   "id": "ba68a3b7",
   "metadata": {},
   "outputs": [
    {
     "name": "stdout",
     "output_type": "stream",
     "text": [
      "x의 평균값: 5.0\n",
      "y의 평균값: 90.5\n"
     ]
    }
   ],
   "source": [
    "#x의 평균값을 구합니다.\n",
    "mx = np.mean(x)\n",
    "\n",
    "#y의 평균값을 구합니다.\n",
    "my = np.mean(y)\n",
    "\n",
    "# 출력으로 확인합니다.\n",
    "print(\"x의 평균값:\", mx)\n",
    "print(\"y의 평균값:\", my)"
   ]
  },
  {
   "cell_type": "markdown",
   "id": "86e62f9d",
   "metadata": {},
   "source": [
    "#### [기울기 공식의 분모와 분자]"
   ]
  },
  {
   "cell_type": "code",
   "execution_count": 10,
   "id": "8ca14c62",
   "metadata": {},
   "outputs": [
    {
     "name": "stdout",
     "output_type": "stream",
     "text": [
      "분모: 20.0\n",
      "분자: 46.0\n"
     ]
    }
   ],
   "source": [
    "# 기울기 공식의 분모 부분입니다.\n",
    "divisor = sum([(i - mx)**2 for i in x])\n",
    "\n",
    "# 기울기 공식의 분자 부분입니다.\n",
    "def top(x, mx, y, my):\n",
    "    d = 0\n",
    "    for i in range(len(x)):\n",
    "        d += (x[i] - mx) * (y[i] - my)\n",
    "    return d\n",
    "dividend = top(x, mx, y, my)\n",
    "\n",
    "# 출력으로 확인합니다.\n",
    "print(\"분모:\", divisor)\n",
    "print(\"분자:\", dividend)"
   ]
  },
  {
   "cell_type": "markdown",
   "id": "c117d1fe",
   "metadata": {},
   "source": [
    "### 3. 기울기와 y 절편 구하기"
   ]
  },
  {
   "cell_type": "code",
   "execution_count": 11,
   "id": "0fa99a7d",
   "metadata": {},
   "outputs": [
    {
     "name": "stdout",
     "output_type": "stream",
     "text": [
      "기울기 a = 2.3\n",
      "y절편 b = 79.0\n"
     ]
    }
   ],
   "source": [
    "# 기울기 a를 구하는 공식입니다.\n",
    "a = dividend / divisor\n",
    "\n",
    "# y절편 b 를 구하는 공식입니다.\n",
    "b = my - (mx*a)\n",
    "\n",
    "# 출력으로 확인합니다.\n",
    "print(\"기울기 a =\", a)\n",
    "print(\"y절편 b =\", b)"
   ]
  }
 ],
 "metadata": {
  "kernelspec": {
   "display_name": "Python 3 (ipykernel)",
   "language": "python",
   "name": "python3"
  },
  "language_info": {
   "codemirror_mode": {
    "name": "ipython",
    "version": 3
   },
   "file_extension": ".py",
   "mimetype": "text/x-python",
   "name": "python",
   "nbconvert_exporter": "python",
   "pygments_lexer": "ipython3",
   "version": "3.8.12"
  }
 },
 "nbformat": 4,
 "nbformat_minor": 5
}
