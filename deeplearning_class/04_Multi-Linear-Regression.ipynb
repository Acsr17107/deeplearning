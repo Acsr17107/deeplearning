{
 "cells": [
  {
   "cell_type": "markdown",
   "metadata": {},
   "source": [
    "[<img style=\"float: right;\" src=\"https://raw.githubusercontent.com/taehojo/taehojo.github.io/master/assets/images/linktocolab.png\" /> ](https://colab.research.google.com/github/taehojo/deeplearning-for-everyone-3rd/blob/master/run_project/01_My_First_Deeplearning.ipynbb)"
   ]
  },
  {
   "cell_type": "markdown",
   "metadata": {},
   "source": [
    "# 5장. 경사하강법: 오차 수정하기"
   ]
  },
  {
   "cell_type": "markdown",
   "metadata": {},
   "source": [
    "## 4. 다중 선형 회귀 실습"
   ]
  },
  {
   "cell_type": "markdown",
   "metadata": {},
   "source": [
    "### 1.환경 준비"
   ]
  },
  {
   "cell_type": "code",
   "execution_count": 1,
   "metadata": {},
   "outputs": [],
   "source": [
    "import numpy as np\n",
    "import matplotlib.pyplot as plt"
   ]
  },
  {
   "cell_type": "markdown",
   "metadata": {},
   "source": [
    "### 2. 데이터 준비"
   ]
  },
  {
   "cell_type": "code",
   "execution_count": 2,
   "metadata": {},
   "outputs": [],
   "source": [
    "#공부시간 x1과 과외 시간 x2, 그리고 성적 y의 넘파이 배열을 만듭니다. \n",
    "x1 = np.array([2, 4, 6, 8])\n",
    "x2 = np.array([0, 4, 2, 3])\n",
    "y = np.array([81, 93, 91, 97]) "
   ]
  },
  {
   "cell_type": "markdown",
   "metadata": {},
   "source": [
    "### 3. 데이터 분포 확인"
   ]
  },
  {
   "cell_type": "code",
   "execution_count": 27,
   "metadata": {},
   "outputs": [
    {
     "data": {
      "image/png": "[encoded data removed]",
      "text/plain": [
       "<Figure size 432x288 with 1 Axes>"
      ]
     },
     "metadata": {
      "needs_background": "light"
     },
     "output_type": "display_data"
    }
   ],
   "source": [
    "# 데이터의 분포를 그래프로 나타내 봅니다.\n",
    "fig = plt.figure()\n",
    "ax = fig.add_subplot(111, projection='3d')\n",
    "ax.scatter3D(x1, x2, y);\n",
    "plt.show()"
   ]
  },
  {
   "cell_type": "markdown",
   "metadata": {},
   "source": [
    "### 4. 실행을 위한 변수 설정"
   ]
  },
  {
   "cell_type": "code",
   "execution_count": 21,
   "metadata": {},
   "outputs": [],
   "source": [
    "# 기울기 a와 절편 b의 값을 초기화 합니다.\n",
    "a1 = 0\n",
    "a2 = 0\n",
    "b = 0\n",
    "\n",
    "#학습률을 정합니다.\n",
    "lr = 0.01 \n",
    "\n",
    "#몇 번 반복될지를 설정합니다.\n",
    "epochs = 2001 "
   ]
  },
  {
   "cell_type": "markdown",
   "metadata": {},
   "source": [
    "### 5. 경사 하강법"
   ]
  },
  {
   "cell_type": "code",
   "execution_count": 22,
   "metadata": {},
   "outputs": [
    {
     "name": "stdout",
     "output_type": "stream",
     "text": [
      "epoch=0, 기울기1=9.2800, 기울기2=4.2250, 절편=1.8100\n",
      "epoch=100, 기울기1=9.5110, 기울기2=5.0270, 절편=22.9205\n",
      "epoch=200, 기울기1=7.3238, 기울기2=4.2950, 절편=37.8751\n",
      "epoch=300, 기울기1=5.7381, 기울기2=3.7489, 절편=48.7589\n",
      "epoch=400, 기울기1=4.5844, 기울기2=3.3507, 절편=56.6800\n",
      "epoch=500, 기울기1=3.7447, 기울기2=3.0608, 절편=62.4448\n",
      "epoch=600, 기울기1=3.1337, 기울기2=2.8498, 절편=66.6404\n",
      "epoch=700, 기울기1=2.6890, 기울기2=2.6962, 절편=69.6938\n",
      "epoch=800, 기울기1=2.3653, 기울기2=2.5845, 절편=71.9160\n",
      "epoch=900, 기울기1=2.1297, 기울기2=2.5032, 절편=73.5333\n",
      "epoch=1000, 기울기1=1.9583, 기울기2=2.4440, 절편=74.7103\n",
      "epoch=1100, 기울기1=1.8336, 기울기2=2.4009, 절편=75.5670\n",
      "epoch=1200, 기울기1=1.7428, 기울기2=2.3695, 절편=76.1904\n",
      "epoch=1300, 기울기1=1.6767, 기울기2=2.3467, 절편=76.6441\n",
      "epoch=1400, 기울기1=1.6286, 기울기2=2.3301, 절편=76.9743\n",
      "epoch=1500, 기울기1=1.5936, 기울기2=2.3180, 절편=77.2146\n",
      "epoch=1600, 기울기1=1.5681, 기울기2=2.3092, 절편=77.3895\n",
      "epoch=1700, 기울기1=1.5496, 기울기2=2.3028, 절편=77.5168\n",
      "epoch=1800, 기울기1=1.5361, 기울기2=2.2982, 절편=77.6095\n",
      "epoch=1900, 기울기1=1.5263, 기울기2=2.2948, 절편=77.6769\n",
      "epoch=2000, 기울기1=1.5191, 기울기2=2.2923, 절편=77.7260\n"
     ]
    }
   ],
   "source": [
    "# x값이 총 몇개인지를 셉니다. x1과 x2의 수가 같으므로 x1만 세겠습니다. \n",
    "n=len(x1)\n",
    "\n",
    "#경사 하강법을 시작합니다.\n",
    "for i in range(epochs):                       # epoch 수 만큼 반복\n",
    "    \n",
    "    y_pred = a1 * x1 + a2 * x2 + b  #예측 값을 구하는 식을 세웁니다\n",
    "    error = y - y_pred                   #실제 값과 비교한 오차를 error로 놓습니다.\n",
    "    \n",
    "    a1_diff = (2/n) * sum(-x1 * (error)) # 오차함수를 a1으로 편미분한 값입니다. \n",
    "    a2_diff = (2/n) * sum(-x2 * (error)) # 오차함수를 a2로 편미분한 값입니다. \n",
    "    b_diff = (2/n) * sum(-(error))            # 오차함수를 b로 편미분한 값입니다. \n",
    "    \n",
    "    a1 = a1 - lr * a1_diff  # 학습률을 곱해 기존의 a1값을 업데이트합니다.\n",
    "    a2 = a2 - lr * a2_diff  # 학습률을 곱해 기존의 a2값을 업데이트합니다.\n",
    "    b = b - lr * b_diff     # 학습률을 곱해 기존의 b값을 업데이트합니다.\n",
    "    \n",
    "    if i % 100 == 0:        # 100번 반복될 때마다 현재의 a1, a2, b값을 출력합니다.\n",
    "        print(\"epoch=%.f, 기울기1=%.04f, 기울기2=%.04f, 절편=%.04f\" % (i, a1, a2, b))\n",
    "        "
   ]
  },
  {
   "cell_type": "code",
   "execution_count": 25,
   "metadata": {},
   "outputs": [
    {
     "name": "stdout",
     "output_type": "stream",
     "text": [
      "실제 점수: [81 93 91 97]\n",
      "예측 점수: [80.76387645 92.97153922 91.42520875 96.7558749 ]\n"
     ]
    }
   ],
   "source": [
    "#실제 점수와 예측 된 점수를 출력해 봅니다.\n",
    "print(\"실제 점수:\", y)\n",
    "print(\"예측 점수:\", y_pred)"
   ]
  },
  {
   "cell_type": "code",
   "execution_count": null,
   "metadata": {},
   "outputs": [],
   "source": []
  }
 ],
 "metadata": {
  "kernelspec": {
   "display_name": "Python 3 (ipykernel)",
   "language": "python",
   "name": "python3"
  },
  "language_info": {
   "codemirror_mode": {
    "name": "ipython",
    "version": 3
   },
   "file_extension": ".py",
   "mimetype": "text/x-python",
   "name": "python",
   "nbconvert_exporter": "python",
   "pygments_lexer": "ipython3",
   "version": "3.8.12"
  }
 },
 "nbformat": 4,
 "nbformat_minor": 2
}
