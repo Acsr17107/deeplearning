{
 "cells": [
  {
   "cell_type": "markdown",
   "metadata": {},
   "source": [
    "[<img style=\"float: right;\" src=\"https://raw.githubusercontent.com/taehojo/taehojo.github.io/master/assets/images/linktocolab.png\" /> ](https://colab.research.google.com/github/taehojo/deeplearning_for_everyone_3rd/blob/master/run_project/16_LSTM_Reuters.ipynb)"
   ]
  },
  {
   "cell_type": "markdown",
   "metadata": {},
   "source": [
    "# 18장 시퀀스 배열로 다루는 순환 신경망(RNN)"
   ]
  },
  {
   "cell_type": "markdown",
   "metadata": {},
   "source": [
    "## 1. LSTM을 이용한 로이터 뉴스 카테고리 분류하기"
   ]
  },
  {
   "cell_type": "code",
   "execution_count": 1,
   "metadata": {},
   "outputs": [
    {
     "name": "stdout",
     "output_type": "stream",
     "text": [
      "Downloading data from https://storage.googleapis.com/tensorflow/tf-keras-datasets/reuters.npz\n",
      "2113536/2110848 [==============================] - 0s 0us/step\n",
      "2121728/2110848 [==============================] - 0s 0us/step\n",
      "46 카테고리\n",
      "8982 학습용 뉴스 기사\n",
      "2246 테스트용 뉴스 기사\n",
      "[1, 2, 2, 8, 43, 10, 447, 5, 25, 207, 270, 5, 2, 111, 16, 369, 186, 90, 67, 7, 89, 5, 19, 102, 6, 19, 124, 15, 90, 67, 84, 22, 482, 26, 7, 48, 4, 49, 8, 864, 39, 209, 154, 6, 151, 6, 83, 11, 15, 22, 155, 11, 15, 7, 48, 9, 2, 2, 504, 6, 258, 6, 272, 11, 15, 22, 134, 44, 11, 15, 16, 8, 197, 2, 90, 67, 52, 29, 209, 30, 32, 132, 6, 109, 15, 17, 12]\n"
     ]
    }
   ],
   "source": [
    "from tensorflow.keras.models import Sequential\n",
    "from tensorflow.keras.layers import Dense, LSTM, Embedding\n",
    "from tensorflow.keras.utils import to_categorical\n",
    "from tensorflow.keras.preprocessing import sequence\n",
    "from tensorflow.keras.datasets import reuters\n",
    "from tensorflow.keras.callbacks import EarlyStopping\n",
    "\n",
    "import numpy as np\n",
    "import matplotlib.pyplot as plt\n",
    "\n",
    "# 데이터를 불러와 학습셋, 테스트셋으로 나눕니다.\n",
    "(X_train, y_train), (X_test, y_test) = reuters.load_data(num_words=1000, test_split=0.2)\n",
    "\n",
    "# 데이터를 확인해 보겠습니다.\n",
    "category = np.max(y_train) + 1\n",
    "print(category, '카테고리')\n",
    "print(len(X_train), '학습용 뉴스 기사')\n",
    "print(len(X_test), '테스트용 뉴스 기사')\n",
    "print(X_train[0])"
   ]
  },
  {
   "cell_type": "code",
   "execution_count": 2,
   "metadata": {},
   "outputs": [
    {
     "name": "stdout",
     "output_type": "stream",
     "text": [
      "Epoch 1/200\n",
      "450/450 [==============================] - 14s 29ms/step - loss: 2.2465 - accuracy: 0.4341 - val_loss: 1.9795 - val_accuracy: 0.5058\n",
      "Epoch 2/200\n",
      "450/450 [==============================] - 13s 28ms/step - loss: 1.8229 - accuracy: 0.5382 - val_loss: 1.7294 - val_accuracy: 0.5499\n",
      "Epoch 3/200\n",
      "450/450 [==============================] - 13s 28ms/step - loss: 1.6210 - accuracy: 0.5823 - val_loss: 1.5678 - val_accuracy: 0.6215\n",
      "Epoch 4/200\n",
      "450/450 [==============================] - 13s 28ms/step - loss: 1.4493 - accuracy: 0.6340 - val_loss: 1.4490 - val_accuracy: 0.6313\n",
      "Epoch 5/200\n",
      "450/450 [==============================] - 13s 28ms/step - loss: 1.3099 - accuracy: 0.6632 - val_loss: 1.3601 - val_accuracy: 0.6505\n",
      "Epoch 6/200\n",
      "450/450 [==============================] - 13s 28ms/step - loss: 1.2128 - accuracy: 0.6887 - val_loss: 1.2910 - val_accuracy: 0.6683\n",
      "Epoch 7/200\n",
      "450/450 [==============================] - 13s 28ms/step - loss: 1.1183 - accuracy: 0.7142 - val_loss: 1.2501 - val_accuracy: 0.6870\n",
      "Epoch 8/200\n",
      "450/450 [==============================] - 13s 28ms/step - loss: 1.0327 - accuracy: 0.7342 - val_loss: 1.2167 - val_accuracy: 0.6937\n",
      "Epoch 9/200\n",
      "450/450 [==============================] - 13s 28ms/step - loss: 0.9560 - accuracy: 0.7582 - val_loss: 1.1672 - val_accuracy: 0.7008\n",
      "Epoch 10/200\n",
      "450/450 [==============================] - 13s 28ms/step - loss: 0.8965 - accuracy: 0.7724 - val_loss: 1.1591 - val_accuracy: 0.7164\n",
      "Epoch 11/200\n",
      "450/450 [==============================] - 13s 28ms/step - loss: 0.8166 - accuracy: 0.7927 - val_loss: 1.1464 - val_accuracy: 0.7217\n",
      "Epoch 12/200\n",
      "450/450 [==============================] - 13s 29ms/step - loss: 0.7555 - accuracy: 0.8081 - val_loss: 1.1592 - val_accuracy: 0.7244\n",
      "Epoch 13/200\n",
      "450/450 [==============================] - 13s 28ms/step - loss: 0.7005 - accuracy: 0.8211 - val_loss: 1.1456 - val_accuracy: 0.7253\n",
      "Epoch 14/200\n",
      "450/450 [==============================] - 13s 28ms/step - loss: 0.6494 - accuracy: 0.8342 - val_loss: 1.1456 - val_accuracy: 0.7262\n",
      "Epoch 15/200\n",
      "450/450 [==============================] - 12s 28ms/step - loss: 0.5857 - accuracy: 0.8546 - val_loss: 1.1727 - val_accuracy: 0.7311\n",
      "Epoch 16/200\n",
      "450/450 [==============================] - 13s 28ms/step - loss: 0.5385 - accuracy: 0.8644 - val_loss: 1.1915 - val_accuracy: 0.7360\n",
      "Epoch 17/200\n",
      "450/450 [==============================] - 13s 29ms/step - loss: 0.5043 - accuracy: 0.8732 - val_loss: 1.2242 - val_accuracy: 0.7378\n",
      "Epoch 18/200\n",
      "450/450 [==============================] - 13s 28ms/step - loss: 0.4487 - accuracy: 0.8860 - val_loss: 1.2762 - val_accuracy: 0.7297\n",
      "71/71 [==============================] - 1s 12ms/step - loss: 1.2762 - accuracy: 0.7297\n"
     ]
    },
    {
     "ename": "TypeError",
     "evalue": "'verbose' is an invalid keyword argument for print()",
     "output_type": "error",
     "traceback": [
      "\u001b[1;31m---------------------------------------------------------------------------\u001b[0m",
      "\u001b[1;31mTypeError\u001b[0m                                 Traceback (most recent call last)",
      "\u001b[1;32m~\\AppData\\Local\\Temp/ipykernel_18372/4229290407.py\u001b[0m in \u001b[0;36m<module>\u001b[1;34m\u001b[0m\n\u001b[0;32m     23\u001b[0m \u001b[1;33m\u001b[0m\u001b[0m\n\u001b[0;32m     24\u001b[0m \u001b[1;31m# 테스트 정확도를 출력합니다.\u001b[0m\u001b[1;33m\u001b[0m\u001b[1;33m\u001b[0m\u001b[0m\n\u001b[1;32m---> 25\u001b[1;33m \u001b[0mprint\u001b[0m\u001b[1;33m(\u001b[0m\u001b[1;34m\"\\n Test Accuracy: %.4f\"\u001b[0m \u001b[1;33m%\u001b[0m \u001b[1;33m(\u001b[0m\u001b[0mmodel\u001b[0m\u001b[1;33m.\u001b[0m\u001b[0mevaluate\u001b[0m\u001b[1;33m(\u001b[0m\u001b[0mX_test\u001b[0m\u001b[1;33m,\u001b[0m \u001b[0my_test\u001b[0m\u001b[1;33m)\u001b[0m\u001b[1;33m[\u001b[0m\u001b[1;36m1\u001b[0m\u001b[1;33m]\u001b[0m\u001b[1;33m)\u001b[0m\u001b[1;33m,\u001b[0m \u001b[0mverbose\u001b[0m\u001b[1;33m=\u001b[0m\u001b[1;36m0\u001b[0m\u001b[1;33m)\u001b[0m\u001b[1;33m\u001b[0m\u001b[1;33m\u001b[0m\u001b[0m\n\u001b[0m",
      "\u001b[1;31mTypeError\u001b[0m: 'verbose' is an invalid keyword argument for print()"
     ]
    }
   ],
   "source": [
    "# 단어의 수를 맞추어 줍니다. \n",
    "X_train = sequence.pad_sequences(X_train, maxlen=100)\n",
    "X_test = sequence.pad_sequences(X_test, maxlen=100)\n",
    "\n",
    "# 원-핫 인코딩 처리를 합니다.\n",
    "y_train = to_categorical(y_train)\n",
    "y_test = to_categorical(y_test)\n",
    "\n",
    "# 모델의 구조를 설정합니다.\n",
    "model = Sequential()\n",
    "model.add(Embedding(1000, 100))\n",
    "model.add(LSTM(100, activation='tanh'))\n",
    "model.add(Dense(46, activation='softmax'))\n",
    "\n",
    "# 모델의 실행 옵션을 정합니다.\n",
    "model.compile(loss='categorical_crossentropy', optimizer='adam', metrics=['accuracy'])\n",
    "\n",
    "# 학습의 조기 중단을 설정합니다.\n",
    "early_stopping_callback = EarlyStopping(monitor='val_loss', patience=5)\n",
    "\n",
    "# 모델을 실행합니다.\n",
    "history = model.fit(X_train, y_train, batch_size=20, epochs=200, validation_data=(X_test, y_test), callbacks=[early_stopping_callback])\n",
    "\n",
    "# 테스트 정확도를 출력합니다.\n",
    "print(\"\\n Test Accuracy: %.4f\" % (model.evaluate(X_test, y_test)[1]), verbose=0)"
   ]
  },
  {
   "cell_type": "code",
   "execution_count": 4,
   "metadata": {},
   "outputs": [
    {
     "data": {
      "image/png": "[encoded data removed]",
      "text/plain": [
       "<Figure size 432x288 with 1 Axes>"
      ]
     },
     "metadata": {
      "needs_background": "light"
     },
     "output_type": "display_data"
    }
   ],
   "source": [
    "# 학습셋과 테스트셋의 오차를 저장합니다. \n",
    "y_vloss = history.history['val_loss']\n",
    "y_loss = history.history['loss']\n",
    "\n",
    "# 그래프로 표현해 보겠습니다.\n",
    "x_len = np.arange(len(y_loss))\n",
    "plt.plot(x_len, y_vloss, marker='.', c=\"red\", label='Testset_loss')\n",
    "plt.plot(x_len, y_loss, marker='.', c=\"blue\", label='Trainset_loss')\n",
    "\n",
    "# 그래프에 그리드를 주고 레이블을 표시하겠습니다. \n",
    "plt.legend(loc='upper right')\n",
    "plt.grid()\n",
    "plt.xlabel('epoch')\n",
    "plt.ylabel('loss')\n",
    "plt.show()"
   ]
  },
  {
   "cell_type": "markdown",
   "metadata": {},
   "source": [
    "## 2. LSTM과 CNN의 조합을 이용한 영화 리뷰 분류하기"
   ]
  },
  {
   "cell_type": "code",
   "execution_count": 5,
   "metadata": {},
   "outputs": [
    {
     "name": "stdout",
     "output_type": "stream",
     "text": [
      "Downloading data from https://storage.googleapis.com/tensorflow/tf-keras-datasets/imdb.npz\n",
      "17465344/17464789 [==============================] - 2s 0us/step\n",
      "17473536/17464789 [==============================] - 2s 0us/step\n",
      "Model: \"sequential_1\"\n",
      "_________________________________________________________________\n",
      "Layer (type)                 Output Shape              Param #   \n",
      "=================================================================\n",
      "embedding_1 (Embedding)      (None, None, 100)         500000    \n",
      "_________________________________________________________________\n",
      "dropout (Dropout)            (None, None, 100)         0         \n",
      "_________________________________________________________________\n",
      "conv1d (Conv1D)              (None, None, 64)          32064     \n",
      "_________________________________________________________________\n",
      "max_pooling1d (MaxPooling1D) (None, None, 64)          0         \n",
      "_________________________________________________________________\n",
      "lstm_1 (LSTM)                (None, 55)                26400     \n",
      "_________________________________________________________________\n",
      "dense_1 (Dense)              (None, 1)                 56        \n",
      "_________________________________________________________________\n",
      "activation (Activation)      (None, 1)                 0         \n",
      "=================================================================\n",
      "Total params: 558,520\n",
      "Trainable params: 558,520\n",
      "Non-trainable params: 0\n",
      "_________________________________________________________________\n"
     ]
    }
   ],
   "source": [
    "from tensorflow.keras.models import Sequential\n",
    "from tensorflow.keras.layers import Dense, Dropout, Activation, Embedding, LSTM, Conv1D, MaxPooling1D\n",
    "from tensorflow.keras.datasets import imdb\n",
    "from tensorflow.keras.preprocessing import sequence\n",
    "from tensorflow.keras.callbacks import EarlyStopping\n",
    "\n",
    "import numpy as np\n",
    "import matplotlib.pyplot as plt\n",
    "\n",
    "# 데이터를 불러와 학습셋, 테스트셋으로 나눕니다.\n",
    "(X_train, y_train), (X_test, y_test) = imdb.load_data(num_words=5000)\n",
    "\n",
    "# 단어의 수를 맞추어 줍니다. \n",
    "X_train = sequence.pad_sequences(X_train, maxlen=500)\n",
    "X_test = sequence.pad_sequences(X_test, maxlen=500)\n",
    "\n",
    "# 모델의 구조를 설정합니다.\n",
    "model = Sequential()\n",
    "model.add(Embedding(5000, 100))\n",
    "model.add(Dropout(0.5))\n",
    "model.add(Conv1D(64, 5, padding='valid', activation='relu',strides=1))\n",
    "model.add(MaxPooling1D(pool_size=4))\n",
    "model.add(LSTM(55))\n",
    "model.add(Dense(1))\n",
    "model.add(Activation('sigmoid'))\n",
    "model.summary()"
   ]
  },
  {
   "cell_type": "code",
   "execution_count": 6,
   "metadata": {},
   "outputs": [
    {
     "name": "stdout",
     "output_type": "stream",
     "text": [
      "Epoch 1/100\n",
      "469/469 [==============================] - 47s 98ms/step - loss: 0.4161 - accuracy: 0.7901 - val_loss: 0.2800 - val_accuracy: 0.8862\n",
      "Epoch 2/100\n",
      "469/469 [==============================] - 44s 95ms/step - loss: 0.2368 - accuracy: 0.9063 - val_loss: 0.2567 - val_accuracy: 0.8976\n",
      "Epoch 3/100\n",
      "469/469 [==============================] - 44s 95ms/step - loss: 0.1850 - accuracy: 0.9297 - val_loss: 0.2870 - val_accuracy: 0.8875\n",
      "Epoch 4/100\n",
      "469/469 [==============================] - 44s 95ms/step - loss: 0.1491 - accuracy: 0.9452 - val_loss: 0.2780 - val_accuracy: 0.8875\n",
      "Epoch 5/100\n",
      "469/469 [==============================] - 47s 100ms/step - loss: 0.1194 - accuracy: 0.9582 - val_loss: 0.3120 - val_accuracy: 0.8866\n",
      "782/782 [==============================] - 12s 15ms/step - loss: 0.3414 - accuracy: 0.8774\n",
      "\n",
      " Test Accuracy: 0.8774\n"
     ]
    }
   ],
   "source": [
    "# 모델의 실행 옵션을 정합니다.\n",
    "model.compile(loss='binary_crossentropy', optimizer='adam', metrics=['accuracy'])\n",
    "\n",
    "# 학습의 조기 중단을 설정합니다.\n",
    "early_stopping_callback = EarlyStopping(monitor='val_loss', patience=3)\n",
    "\n",
    "# 모델을 실행합니다.\n",
    "history = model.fit(X_train, y_train, batch_size=40, epochs=100, validation_split=0.25, callbacks=[early_stopping_callback])\n",
    "\n",
    "# 테스트 정확도를 출력합니다.\n",
    "print(\"\\n Test Accuracy: %.4f\" % (model.evaluate(X_test, y_test)[1]))"
   ]
  },
  {
   "cell_type": "code",
   "execution_count": 7,
   "metadata": {},
   "outputs": [
    {
     "data": {
      "image/png": "[encoded data removed]",
      "text/plain": [
       "<Figure size 432x288 with 1 Axes>"
      ]
     },
     "metadata": {
      "needs_background": "light"
     },
     "output_type": "display_data"
    }
   ],
   "source": [
    "# 학습셋과 테스트셋의 오차를 저장합니다. \n",
    "y_vloss = history.history['val_loss']\n",
    "y_loss = history.history['loss']\n",
    "\n",
    "# 그래프로 표현해 보겠습니다.\n",
    "x_len = np.arange(len(y_loss))\n",
    "plt.plot(x_len, y_vloss, marker='.', c=\"red\", label='Testset_loss')\n",
    "plt.plot(x_len, y_loss, marker='.', c=\"blue\", label='Trainset_loss')\n",
    "\n",
    "# 그래프에 그리드를 주고 레이블을 표시하겠습니다. \n",
    "plt.legend(loc='upper right')\n",
    "plt.grid()\n",
    "plt.xlabel('epoch')\n",
    "plt.ylabel('loss')\n",
    "plt.show()"
   ]
  },
  {
   "cell_type": "markdown",
   "metadata": {},
   "source": [
    "## 3. 어텐션을 사용한 신경망"
   ]
  },
  {
   "cell_type": "code",
   "execution_count": 8,
   "metadata": {},
   "outputs": [
    {
     "name": "stdout",
     "output_type": "stream",
     "text": [
      "Collecting attention\n",
      "  Downloading attention-4.0-py2.py3-none-any.whl (7.6 kB)\n",
      "Requirement already satisfied: numpy>=1.18.1 in c:\\users\\gilbut\\anaconda3\\envs\\deep_learning\\lib\\site-packages (from attention) (1.19.5)\n",
      "Requirement already satisfied: tensorflow>=2.1 in c:\\users\\gilbut\\anaconda3\\envs\\deep_learning\\lib\\site-packages (from attention) (2.6.1)\n",
      "Requirement already satisfied: gast==0.4.0 in c:\\users\\gilbut\\anaconda3\\envs\\deep_learning\\lib\\site-packages (from tensorflow>=2.1->attention) (0.4.0)\n",
      "Requirement already satisfied: h5py~=3.1.0 in c:\\users\\gilbut\\anaconda3\\envs\\deep_learning\\lib\\site-packages (from tensorflow>=2.1->attention) (3.1.0)\n",
      "Requirement already satisfied: keras~=2.6 in c:\\users\\gilbut\\anaconda3\\envs\\deep_learning\\lib\\site-packages (from tensorflow>=2.1->attention) (2.6.0)\n",
      "Requirement already satisfied: google-pasta~=0.2 in c:\\users\\gilbut\\anaconda3\\envs\\deep_learning\\lib\\site-packages (from tensorflow>=2.1->attention) (0.2.0)\n",
      "Requirement already satisfied: absl-py~=0.10 in c:\\users\\gilbut\\anaconda3\\envs\\deep_learning\\lib\\site-packages (from tensorflow>=2.1->attention) (0.15.0)\n",
      "Requirement already satisfied: grpcio<2.0,>=1.37.0 in c:\\users\\gilbut\\anaconda3\\envs\\deep_learning\\lib\\site-packages (from tensorflow>=2.1->attention) (1.43.0)\n",
      "Requirement already satisfied: protobuf>=3.9.2 in c:\\users\\gilbut\\anaconda3\\envs\\deep_learning\\lib\\site-packages (from tensorflow>=2.1->attention) (3.19.3)\n",
      "Requirement already satisfied: typing-extensions~=3.7.4 in c:\\users\\gilbut\\anaconda3\\envs\\deep_learning\\lib\\site-packages (from tensorflow>=2.1->attention) (3.7.4.3)\n",
      "Requirement already satisfied: flatbuffers~=1.12.0 in c:\\users\\gilbut\\anaconda3\\envs\\deep_learning\\lib\\site-packages (from tensorflow>=2.1->attention) (1.12)\n",
      "Requirement already satisfied: six~=1.15.0 in c:\\users\\gilbut\\anaconda3\\envs\\deep_learning\\lib\\site-packages (from tensorflow>=2.1->attention) (1.15.0)\n",
      "Requirement already satisfied: opt-einsum~=3.3.0 in c:\\users\\gilbut\\anaconda3\\envs\\deep_learning\\lib\\site-packages (from tensorflow>=2.1->attention) (3.3.0)\n",
      "Requirement already satisfied: clang~=5.0 in c:\\users\\gilbut\\anaconda3\\envs\\deep_learning\\lib\\site-packages (from tensorflow>=2.1->attention) (5.0)\n",
      "Requirement already satisfied: wrapt~=1.12.1 in c:\\users\\gilbut\\anaconda3\\envs\\deep_learning\\lib\\site-packages (from tensorflow>=2.1->attention) (1.12.1)\n",
      "Requirement already satisfied: wheel~=0.35 in c:\\users\\gilbut\\anaconda3\\envs\\deep_learning\\lib\\site-packages (from tensorflow>=2.1->attention) (0.37.1)\n",
      "Requirement already satisfied: astunparse~=1.6.3 in c:\\users\\gilbut\\anaconda3\\envs\\deep_learning\\lib\\site-packages (from tensorflow>=2.1->attention) (1.6.3)\n",
      "Requirement already satisfied: tensorboard~=2.6 in c:\\users\\gilbut\\anaconda3\\envs\\deep_learning\\lib\\site-packages (from tensorflow>=2.1->attention) (2.7.0)\n",
      "Requirement already satisfied: keras-preprocessing~=1.1.2 in c:\\users\\gilbut\\anaconda3\\envs\\deep_learning\\lib\\site-packages (from tensorflow>=2.1->attention) (1.1.2)\n",
      "Requirement already satisfied: tensorflow-estimator<2.7 in c:\\users\\gilbut\\anaconda3\\envs\\deep_learning\\lib\\site-packages (from tensorflow>=2.1->attention) (2.6.0)\n",
      "Requirement already satisfied: termcolor~=1.1.0 in c:\\users\\gilbut\\anaconda3\\envs\\deep_learning\\lib\\site-packages (from tensorflow>=2.1->attention) (1.1.0)\n",
      "Requirement already satisfied: werkzeug>=0.11.15 in c:\\users\\gilbut\\anaconda3\\envs\\deep_learning\\lib\\site-packages (from tensorboard~=2.6->tensorflow>=2.1->attention) (2.0.2)\n",
      "Requirement already satisfied: tensorboard-data-server<0.7.0,>=0.6.0 in c:\\users\\gilbut\\anaconda3\\envs\\deep_learning\\lib\\site-packages (from tensorboard~=2.6->tensorflow>=2.1->attention) (0.6.1)\n",
      "Requirement already satisfied: requests<3,>=2.21.0 in c:\\users\\gilbut\\anaconda3\\envs\\deep_learning\\lib\\site-packages (from tensorboard~=2.6->tensorflow>=2.1->attention) (2.27.1)\n",
      "Requirement already satisfied: setuptools>=41.0.0 in c:\\users\\gilbut\\anaconda3\\envs\\deep_learning\\lib\\site-packages (from tensorboard~=2.6->tensorflow>=2.1->attention) (58.0.4)\n",
      "Requirement already satisfied: tensorboard-plugin-wit>=1.6.0 in c:\\users\\gilbut\\anaconda3\\envs\\deep_learning\\lib\\site-packages (from tensorboard~=2.6->tensorflow>=2.1->attention) (1.8.1)\n",
      "Requirement already satisfied: google-auth-oauthlib<0.5,>=0.4.1 in c:\\users\\gilbut\\anaconda3\\envs\\deep_learning\\lib\\site-packages (from tensorboard~=2.6->tensorflow>=2.1->attention) (0.4.6)\n",
      "Requirement already satisfied: markdown>=2.6.8 in c:\\users\\gilbut\\anaconda3\\envs\\deep_learning\\lib\\site-packages (from tensorboard~=2.6->tensorflow>=2.1->attention) (3.3.6)\n",
      "Requirement already satisfied: google-auth<3,>=1.6.3 in c:\\users\\gilbut\\anaconda3\\envs\\deep_learning\\lib\\site-packages (from tensorboard~=2.6->tensorflow>=2.1->attention) (2.3.3)\n",
      "Requirement already satisfied: cachetools<5.0,>=2.0.0 in c:\\users\\gilbut\\anaconda3\\envs\\deep_learning\\lib\\site-packages (from google-auth<3,>=1.6.3->tensorboard~=2.6->tensorflow>=2.1->attention) (4.2.4)\n",
      "Requirement already satisfied: rsa<5,>=3.1.4 in c:\\users\\gilbut\\anaconda3\\envs\\deep_learning\\lib\\site-packages (from google-auth<3,>=1.6.3->tensorboard~=2.6->tensorflow>=2.1->attention) (4.8)\n",
      "Requirement already satisfied: pyasn1-modules>=0.2.1 in c:\\users\\gilbut\\anaconda3\\envs\\deep_learning\\lib\\site-packages (from google-auth<3,>=1.6.3->tensorboard~=2.6->tensorflow>=2.1->attention) (0.2.8)\n",
      "Requirement already satisfied: requests-oauthlib>=0.7.0 in c:\\users\\gilbut\\anaconda3\\envs\\deep_learning\\lib\\site-packages (from google-auth-oauthlib<0.5,>=0.4.1->tensorboard~=2.6->tensorflow>=2.1->attention) (1.3.0)\n",
      "Requirement already satisfied: importlib-metadata>=4.4 in c:\\users\\gilbut\\anaconda3\\envs\\deep_learning\\lib\\site-packages (from markdown>=2.6.8->tensorboard~=2.6->tensorflow>=2.1->attention) (4.8.2)\n",
      "Requirement already satisfied: zipp>=0.5 in c:\\users\\gilbut\\anaconda3\\envs\\deep_learning\\lib\\site-packages (from importlib-metadata>=4.4->markdown>=2.6.8->tensorboard~=2.6->tensorflow>=2.1->attention) (3.7.0)\n",
      "Requirement already satisfied: pyasn1<0.5.0,>=0.4.6 in c:\\users\\gilbut\\anaconda3\\envs\\deep_learning\\lib\\site-packages (from pyasn1-modules>=0.2.1->google-auth<3,>=1.6.3->tensorboard~=2.6->tensorflow>=2.1->attention) (0.4.8)\n",
      "Requirement already satisfied: idna<4,>=2.5 in c:\\users\\gilbut\\anaconda3\\envs\\deep_learning\\lib\\site-packages (from requests<3,>=2.21.0->tensorboard~=2.6->tensorflow>=2.1->attention) (3.3)\n",
      "Requirement already satisfied: certifi>=2017.4.17 in c:\\users\\gilbut\\anaconda3\\envs\\deep_learning\\lib\\site-packages (from requests<3,>=2.21.0->tensorboard~=2.6->tensorflow>=2.1->attention) (2021.10.8)\n",
      "Requirement already satisfied: urllib3<1.27,>=1.21.1 in c:\\users\\gilbut\\anaconda3\\envs\\deep_learning\\lib\\site-packages (from requests<3,>=2.21.0->tensorboard~=2.6->tensorflow>=2.1->attention) (1.26.8)\n",
      "Requirement already satisfied: charset-normalizer~=2.0.0 in c:\\users\\gilbut\\anaconda3\\envs\\deep_learning\\lib\\site-packages (from requests<3,>=2.21.0->tensorboard~=2.6->tensorflow>=2.1->attention) (2.0.10)\n",
      "Requirement already satisfied: oauthlib>=3.0.0 in c:\\users\\gilbut\\anaconda3\\envs\\deep_learning\\lib\\site-packages (from requests-oauthlib>=0.7.0->google-auth-oauthlib<0.5,>=0.4.1->tensorboard~=2.6->tensorflow>=2.1->attention) (3.1.1)\n",
      "Installing collected packages: attention\n",
      "Successfully installed attention-4.0\n"
     ]
    }
   ],
   "source": [
    "!pip install attention"
   ]
  },
  {
   "cell_type": "code",
   "execution_count": null,
   "metadata": {},
   "outputs": [],
   "source": [
    "#plot_model() 실행할 때 오류 발생 시 주석을 풀고 설치해주세요.\n",
    "#!pip install pydot"
   ]
  },
  {
   "cell_type": "code",
   "execution_count": null,
   "metadata": {},
   "outputs": [],
   "source": [
    "#plot_model() 실행할 때 오류 발생 시 주석을 풀고 설치해주세요.\n",
    "#!pip install graphviz"
   ]
  },
  {
   "cell_type": "code",
   "execution_count": 9,
   "metadata": {},
   "outputs": [
    {
     "name": "stdout",
     "output_type": "stream",
     "text": [
      "('You must install pydot (`pip install pydot`) and install graphviz (see instructions at https://graphviz.gitlab.io/download/) ', 'for plot_model/model_to_dot to work.')\n"
     ]
    }
   ],
   "source": [
    "from tensorflow.keras.models import Sequential\n",
    "from tensorflow.keras.layers import Dense, Dropout, Activation, Embedding, LSTM, Conv1D, MaxPooling1D\n",
    "from tensorflow.keras.datasets import imdb\n",
    "from tensorflow.keras.preprocessing import sequence\n",
    "from tensorflow.keras.callbacks import EarlyStopping\n",
    "from tensorflow.keras.utils import plot_model\n",
    "\n",
    "from attention import Attention\n",
    "\n",
    "import numpy as np\n",
    "import matplotlib.pyplot as plt\n",
    "\n",
    "# 데이터를 불러와 학습셋, 테스트셋으로 나눕니다.\n",
    "(X_train, y_train), (X_test, y_test) = imdb.load_data(num_words=5000)\n",
    "\n",
    "# 단어의 수를 맞추어 줍니다. \n",
    "X_train = sequence.pad_sequences(X_train, maxlen=500)\n",
    "X_test = sequence.pad_sequences(X_test, maxlen=500)\n",
    "\n",
    "# 모델의 구조를 설정합니다.\n",
    "model = Sequential()\n",
    "model.add(Embedding(5000, 500))\n",
    "model.add(Dropout(0.5))\n",
    "model.add(LSTM(64, return_sequences=True))\n",
    "model.add(Attention())\n",
    "model.add(Dropout(0.5))\n",
    "model.add(Dense(1))\n",
    "model.add(Activation('sigmoid'))\n",
    "\n",
    "plot_model(model)"
   ]
  },
  {
   "cell_type": "code",
   "execution_count": 10,
   "metadata": {},
   "outputs": [
    {
     "name": "stdout",
     "output_type": "stream",
     "text": [
      "Epoch 1/100\n",
      "625/625 [==============================] - 319s 509ms/step - loss: 0.3764 - accuracy: 0.8246 - val_loss: 0.2985 - val_accuracy: 0.8771\n",
      "Epoch 2/100\n",
      "625/625 [==============================] - 318s 509ms/step - loss: 0.2221 - accuracy: 0.9113 - val_loss: 0.2787 - val_accuracy: 0.8882\n",
      "Epoch 3/100\n",
      "625/625 [==============================] - 319s 510ms/step - loss: 0.1632 - accuracy: 0.9372 - val_loss: 0.2846 - val_accuracy: 0.8878\n",
      "Epoch 4/100\n",
      "625/625 [==============================] - 317s 507ms/step - loss: 0.1192 - accuracy: 0.9543 - val_loss: 0.3521 - val_accuracy: 0.8878\n",
      "Epoch 5/100\n",
      "625/625 [==============================] - 322s 515ms/step - loss: 0.0812 - accuracy: 0.9692 - val_loss: 0.4242 - val_accuracy: 0.8750\n",
      "782/782 [==============================] - 54s 69ms/step - loss: 0.4242 - accuracy: 0.8750\n",
      "\n",
      " Test Accuracy: 0.8750\n"
     ]
    }
   ],
   "source": [
    "# 모델의 실행 옵션을 정합니다.\n",
    "model.compile(loss='binary_crossentropy', optimizer='adam', metrics=['accuracy'])\n",
    "\n",
    "# 학습의 조기 중단을 설정합니다.\n",
    "early_stopping_callback = EarlyStopping(monitor='val_loss', patience=3)\n",
    "\n",
    "# 모델을 실행합니다.\n",
    "history = model.fit(X_train, y_train, batch_size=40, epochs=100,  validation_data=(X_test, y_test), callbacks=[early_stopping_callback])\n",
    "\n",
    "# 테스트 정확도를 출력합니다.\n",
    "print(\"\\n Test Accuracy: %.4f\" % (model.evaluate(X_test, y_test)[1]))"
   ]
  },
  {
   "cell_type": "code",
   "execution_count": 11,
   "metadata": {},
   "outputs": [
    {
     "data": {
      "image/png": "[encoded data removed]",
      "text/plain": [
       "<Figure size 432x288 with 1 Axes>"
      ]
     },
     "metadata": {
      "needs_background": "light"
     },
     "output_type": "display_data"
    }
   ],
   "source": [
    "# 학습셋과 테스트셋의 오차를 저장합니다. \n",
    "y_vloss = history.history['val_loss']\n",
    "y_loss = history.history['loss']\n",
    "\n",
    "# 그래프로 표현해 보겠습니다.\n",
    "x_len = np.arange(len(y_loss))\n",
    "plt.plot(x_len, y_vloss, marker='.', c=\"red\", label='Testset_loss')\n",
    "plt.plot(x_len, y_loss, marker='.', c=\"blue\", label='Trainset_loss')\n",
    "\n",
    "# 그래프에 그리드를 주고 레이블을 표시하겠습니다. \n",
    "plt.legend(loc='upper right')\n",
    "plt.grid()\n",
    "plt.xlabel('epoch')\n",
    "plt.ylabel('loss')\n",
    "plt.show()"
   ]
  },
  {
   "cell_type": "code",
   "execution_count": null,
   "metadata": {},
   "outputs": [],
   "source": []
  }
 ],
 "metadata": {
  "kernelspec": {
   "display_name": "Python 3 (ipykernel)",
   "language": "python",
   "name": "python3"
  },
  "language_info": {
   "codemirror_mode": {
    "name": "ipython",
    "version": 3
   },
   "file_extension": ".py",
   "mimetype": "text/x-python",
   "name": "python",
   "nbconvert_exporter": "python",
   "pygments_lexer": "ipython3",
   "version": "3.9.7"
  }
 },
 "nbformat": 4,
 "nbformat_minor": 2
}
