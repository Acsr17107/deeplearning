{
 "cells": [
  {
   "cell_type": "markdown",
   "id": "7afff02a",
   "metadata": {},
   "source": [
    "[<img style=\"float: right;\" src=\"https://raw.githubusercontent.com/taehojo/taehojo.github.io/master/assets/images/linktocolab.png\" /> ](https://colab.research.google.com/github/taehojo/deeplearning_for_everyone_3rd/blob/master/supplementary_book/Top10_Machine_learning.ipynb)"
   ]
  },
  {
   "cell_type": "markdown",
   "id": "cd9fd86f",
   "metadata": {},
   "source": [
    "<모두의 딥러닝 - 개정 3판> 부록"
   ]
  },
  {
   "cell_type": "markdown",
   "id": "efb42a56",
   "metadata": {},
   "source": [
    "# 가장 많이 쓰이는 머신 러닝 알고리즘 TOP 10"
   ]
  },
  {
   "cell_type": "markdown",
   "id": "ab2200e9",
   "metadata": {},
   "source": [
    "### 딥러닝 이외의 머신 러닝 알고리즘"
   ]
  },
  {
   "cell_type": "markdown",
   "id": "6875a471",
   "metadata": {},
   "source": [
    "딥러닝은 머신러닝의 여러가지 알고리즘 중 하나입니다. 그러면 딥러닝 이외의 머신러닝 알고리즘은 어떤것들이 있으며 어떻게 이용할 수 있을까요? \n",
    "딥러닝은 일반적으로 과적합을 피하기 위해 많은 데이터가 필요합니다. 딥러닝을 이용하면 복잡하고 어려운 학습을 해낼 수 있지만, 이로 인해 때로 좋은 사양의 컴퓨터가 필요하고 긴 학습 시간이 소요될 때도 있습니다. 데이터가 딥러닝을 구현하기에 충분하게 확보되지 않았거나 빠른 결과가 필요하다면 간단한 머신러닝 기법을 이용하는 것이 더 바람직 할 수 있습니다. 여기서는 딥러닝 이외에 가장 많이 사용되는 머신러닝 모델 10개를 골라 그림과 함께 그 내용을 알아보고 실습해 보겠습니다."
   ]
  },
  {
   "cell_type": "markdown",
   "id": "70f6520c",
   "metadata": {},
   "source": [
    "### 실습을 위한 준비사항"
   ]
  },
  {
   "cell_type": "code",
   "execution_count": 1,
   "id": "1af0945b",
   "metadata": {},
   "outputs": [],
   "source": [
    "import pandas as pd\n",
    "import matplotlib.pyplot as plt\n",
    "from sklearn.model_selection import train_test_split, cross_val_score, StratifiedKFold\n",
    "\n",
    "# 피마 인디언 당뇨병 데이터셋을 불러옵니다. \n",
    "df = pd.read_csv('../data/pima-indians-diabetes3.csv')\n",
    "\n",
    "# 세부 정보를 X로 지정합니다.\n",
    "X = df.iloc[:,0:8]\n",
    "# 당뇨병 여부를 Y로 지정합니다.\n",
    "y = df.iloc[:,8]\n",
    "\n",
    "# 학습셋과 테스트셋을 75:25의 비율로 나눕니다.\n",
    "X_train, X_test, y_train, y_test = train_test_split(X, y, test_size = 0.25, random_state = 0)\n",
    "\n",
    "# 데이터 속성의 스케일을 맞추어 줍니다.\n",
    "from sklearn.preprocessing import StandardScaler\n",
    "sc = StandardScaler()\n",
    "X_train = sc.fit_transform(X_train)\n",
    "X_test = sc.transform(X_test)"
   ]
  },
  {
   "cell_type": "markdown",
   "id": "0d4f86e4",
   "metadata": {},
   "source": [
    "### 1. 결정 트리"
   ]
  },
  {
   "cell_type": "code",
   "execution_count": 2,
   "id": "e638e86f",
   "metadata": {},
   "outputs": [
    {
     "name": "stdout",
     "output_type": "stream",
     "text": [
      "Accuracy: 66.15 %\n",
      "Standard Deviation: 5.05 %\n"
     ]
    }
   ],
   "source": [
    "# 결정 트리 분류기를 불러 옵니다.\n",
    "from sklearn.tree import DecisionTreeClassifier\n",
    "\n",
    "# 학습 환경을 설정합니다.\n",
    "classifier= DecisionTreeClassifier()\n",
    "classifier.fit(X_train, y_train)\n",
    " \n",
    "# 테스트셋에 적용합니다. \n",
    "y_pred = classifier.predict(X_test)\n",
    "\n",
    "# 계층별 교차검증 환경을 설정합니다. \n",
    "skf=StratifiedKFold(n_splits=10, shuffle=True)\n",
    "\n",
    "# 교차 검증을 통해 정확도를 계산합니다. \n",
    "accuracies = cross_val_score(estimator = classifier, X = X_train, y = y_train, cv = skf)\n",
    "\n",
    "# 정확도와 표준편차를 출력합니다. \n",
    "print(\"Accuracy: {:.2f} %\".format(accuracies.mean()*100))\n",
    "print(\"Standard Deviation: {:.2f} %\".format(accuracies.std()*100))"
   ]
  },
  {
   "cell_type": "markdown",
   "id": "732d6e00",
   "metadata": {},
   "source": [
    "### 2. 랜덤 포레스트"
   ]
  },
  {
   "cell_type": "code",
   "execution_count": 3,
   "id": "ee20ae11",
   "metadata": {},
   "outputs": [
    {
     "name": "stdout",
     "output_type": "stream",
     "text": [
      "Accuracy: 74.83 %\n",
      "Standard Deviation: 5.41 %\n"
     ]
    }
   ],
   "source": [
    "# 랜덤 포레스트 분류기를 불러 옵니다.\n",
    "from sklearn.ensemble import RandomForestClassifier\n",
    "\n",
    "# 학습 환경을 설정합니다.\n",
    "classifier= RandomForestClassifier(n_estimators = 50) \n",
    "classifier.fit(X_train, y_train)\n",
    " \n",
    "# 테스트셋에 적용합니다. \n",
    "y_pred = classifier.predict(X_test)\n",
    "\n",
    "# 계층별 교차검증 환경을 설정합니다. \n",
    "skf=StratifiedKFold(n_splits=10, shuffle=True)\n",
    "\n",
    "# 교차 검증을 통해 정확도를 계산합니다. \n",
    "accuracies = cross_val_score(estimator = classifier, X = X_train, y = y_train, cv = skf)\n",
    "\n",
    "# 정확도와 표준편차를 출력합니다. \n",
    "print(\"Accuracy: {:.2f} %\".format(accuracies.mean()*100))\n",
    "print(\"Standard Deviation: {:.2f} %\".format(accuracies.std()*100))"
   ]
  },
  {
   "cell_type": "markdown",
   "id": "02891864",
   "metadata": {},
   "source": [
    "### 3. 가우시안 나이브 베이즈"
   ]
  },
  {
   "cell_type": "code",
   "execution_count": 4,
   "id": "6b538597",
   "metadata": {},
   "outputs": [
    {
     "name": "stdout",
     "output_type": "stream",
     "text": [
      "Accuracy: 75.88 %\n",
      "Standard Deviation: 4.29 %\n"
     ]
    }
   ],
   "source": [
    "# 가우시안 나이브 베이즈 분류기를 불러 옵니다.\n",
    "from sklearn.naive_bayes import GaussianNB\n",
    "\n",
    "# 학습 환경을 설정합니다.\n",
    "classifier = GaussianNB()\n",
    "classifier.fit(X_train, y_train)\n",
    " \n",
    "# 테스트셋에 적용합니다. \n",
    "y_pred = classifier.predict(X_test)\n",
    "\n",
    "# 계층별 교차검증 환경을 설정합니다. \n",
    "skf=StratifiedKFold(n_splits=10, shuffle=True)\n",
    "\n",
    "# 교차 검증을 통해 정확도를 계산합니다. \n",
    "accuracies = cross_val_score(estimator = classifier, X = X_train, y = y_train, cv = skf)\n",
    "\n",
    "# 정확도와 표준편차를 출력합니다. \n",
    "print(\"Accuracy: {:.2f} %\".format(accuracies.mean()*100))\n",
    "print(\"Standard Deviation: {:.2f} %\".format(accuracies.std()*100))"
   ]
  },
  {
   "cell_type": "markdown",
   "id": "73af16ec",
   "metadata": {},
   "source": [
    "### 4. K-최근접 이웃"
   ]
  },
  {
   "cell_type": "code",
   "execution_count": 5,
   "id": "31c3fbb0",
   "metadata": {},
   "outputs": [
    {
     "name": "stdout",
     "output_type": "stream",
     "text": [
      "Accuracy: 72.91 %\n",
      "Standard Deviation: 4.53 %\n"
     ]
    }
   ],
   "source": [
    "#  K-최근접 이웃 분류기를 불러옵니다.\n",
    "from sklearn.neighbors import KNeighborsClassifier\n",
    "\n",
    "# 학습 환경을 설정합니다.\n",
    "classifier = KNeighborsClassifier() \n",
    "classifier.fit(X_train, y_train)\n",
    " \n",
    "# 테스트셋에 적용합니다. \n",
    "y_pred = classifier.predict(X_test)\n",
    "\n",
    "# 계층별 교차검증 환경을 설정합니다. \n",
    "skf=StratifiedKFold(n_splits=10, shuffle=True)\n",
    "\n",
    "# 교차 검증을 통해 정확도를 계산합니다. \n",
    "accuracies = cross_val_score(estimator = classifier, X = X_train, y = y_train, cv = skf)\n",
    "\n",
    "# 정확도와 표준편차를 출력합니다. \n",
    "print(\"Accuracy: {:.2f} %\".format(accuracies.mean()*100))\n",
    "print(\"Standard Deviation: {:.2f} %\".format(accuracies.std()*100))"
   ]
  },
  {
   "cell_type": "markdown",
   "id": "4546cac1",
   "metadata": {},
   "source": [
    "### 5. 에이다 부스트"
   ]
  },
  {
   "cell_type": "code",
   "execution_count": 6,
   "id": "8b26751a",
   "metadata": {},
   "outputs": [
    {
     "name": "stdout",
     "output_type": "stream",
     "text": [
      "Accuracy: 71.36 %\n",
      "Standard Deviation: 4.84 %\n"
     ]
    }
   ],
   "source": [
    "# 에이다 부스트 분류기를 불러옵니다.\n",
    "from sklearn.ensemble import AdaBoostClassifier\n",
    "\n",
    "# 학습 환경을 설정합니다.\n",
    "classifier = AdaBoostClassifier() \n",
    "classifier.fit(X_train, y_train)\n",
    " \n",
    "# 테스트셋에 적용합니다. \n",
    "y_pred = classifier.predict(X_test)\n",
    "\n",
    "# 계층별 교차검증 환경을 설정합니다. \n",
    "skf=StratifiedKFold(n_splits=10, shuffle=True)\n",
    "\n",
    "# 교차 검증을 통해 정확도를 계산합니다. \n",
    "accuracies = cross_val_score(estimator = classifier, X = X_train, y = y_train, cv = skf)\n",
    "\n",
    "# 정확도와 표준편차를 출력합니다. \n",
    "print(\"Accuracy: {:.2f} %\".format(accuracies.mean()*100))\n",
    "print(\"Standard Deviation: {:.2f} %\".format(accuracies.std()*100))"
   ]
  },
  {
   "cell_type": "markdown",
   "id": "143d6b65",
   "metadata": {},
   "source": [
    "### 6. 이차 판별분석"
   ]
  },
  {
   "cell_type": "code",
   "execution_count": 7,
   "id": "f72ccc42",
   "metadata": {},
   "outputs": [
    {
     "name": "stdout",
     "output_type": "stream",
     "text": [
      "Accuracy: 72.94 %\n",
      "Standard Deviation: 8.03 %\n"
     ]
    }
   ],
   "source": [
    "# 이차 판별분석 분류기를 불러옵니다.\n",
    "from sklearn.discriminant_analysis import QuadraticDiscriminantAnalysis\n",
    "\n",
    "# 학습 환경을 설정합니다.\n",
    "classifier = QuadraticDiscriminantAnalysis() \n",
    "classifier.fit(X_train, y_train)\n",
    " \n",
    "# 테스트셋에 적용합니다. \n",
    "y_pred = classifier.predict(X_test)\n",
    "\n",
    "# 계층별 교차검증 환경을 설정합니다. \n",
    "skf=StratifiedKFold(n_splits=10, shuffle=True)\n",
    "\n",
    "# 교차 검증을 통해 정확도를 계산합니다. \n",
    "accuracies = cross_val_score(estimator = classifier, X = X_train, y = y_train, cv = skf)\n",
    "\n",
    "# 정확도와 표준편차를 출력합니다. \n",
    "print(\"Accuracy: {:.2f} %\".format(accuracies.mean()*100))\n",
    "print(\"Standard Deviation: {:.2f} %\".format(accuracies.std()*100))"
   ]
  },
  {
   "cell_type": "markdown",
   "id": "3863b2b2",
   "metadata": {},
   "source": [
    "### 7. 서포트 벡터 머신"
   ]
  },
  {
   "cell_type": "code",
   "execution_count": 8,
   "id": "65058628",
   "metadata": {},
   "outputs": [
    {
     "name": "stdout",
     "output_type": "stream",
     "text": [
      "Accuracy: 75.51 %\n",
      "Standard Deviation: 3.58 %\n"
     ]
    }
   ],
   "source": [
    "# 서포트 벡터 머신 분류기를 불러옵니다.\n",
    "from sklearn.svm import SVC\n",
    "\n",
    "# 학습 환경을 설정합니다.\n",
    "classifier = SVC(kernel = 'linear')\n",
    "classifier.fit(X_train, y_train)\n",
    " \n",
    "# 테스트셋에 적용합니다. \n",
    "y_pred = classifier.predict(X_test)\n",
    "\n",
    "# 계층별 교차검증 환경을 설정합니다. \n",
    "skf=StratifiedKFold(n_splits=10, shuffle=True)\n",
    "\n",
    "# 교차 검증을 통해 정확도를 계산합니다. \n",
    "accuracies = cross_val_score(estimator = classifier, X = X_train, y = y_train, cv = skf)\n",
    "\n",
    "# 정확도와 표준편차를 출력합니다. \n",
    "print(\"Accuracy: {:.2f} %\".format(accuracies.mean()*100))\n",
    "print(\"Standard Deviation: {:.2f} %\".format(accuracies.std()*100))"
   ]
  },
  {
   "cell_type": "markdown",
   "id": "4e45c2f4",
   "metadata": {},
   "source": [
    "### 8. 서포트 벡터 머신 - RBF 커널"
   ]
  },
  {
   "cell_type": "code",
   "execution_count": 9,
   "id": "adda46f6",
   "metadata": {},
   "outputs": [
    {
     "name": "stdout",
     "output_type": "stream",
     "text": [
      "Accuracy: 75.86 %\n",
      "Standard Deviation: 3.37 %\n"
     ]
    }
   ],
   "source": [
    "# 서포트 벡터 머신 분류기를 불러옵니다.\n",
    "from sklearn.svm import SVC\n",
    "\n",
    "# 학습 환경을 설정합니다.\n",
    "classifier = SVC(kernel = 'rbf')\n",
    "classifier.fit(X_train, y_train)\n",
    " \n",
    "# 테스트셋에 적용합니다. \n",
    "y_pred = classifier.predict(X_test)\n",
    "\n",
    "# 계층별 교차검증 환경을 설정합니다. \n",
    "skf=StratifiedKFold(n_splits=10, shuffle=True)\n",
    "\n",
    "# 교차 검증을 통해 정확도를 계산합니다. \n",
    "accuracies = cross_val_score(estimator = classifier, X = X_train, y = y_train, cv = skf)\n",
    "\n",
    "# 정확도와 표준편차를 출력합니다. \n",
    "print(\"Accuracy: {:.2f} %\".format(accuracies.mean()*100))\n",
    "print(\"Standard Deviation: {:.2f} %\".format(accuracies.std()*100))"
   ]
  },
  {
   "cell_type": "markdown",
   "id": "c0dd4788",
   "metadata": {},
   "source": [
    "### 9. 보팅"
   ]
  },
  {
   "cell_type": "code",
   "execution_count": 19,
   "id": "2624e53a",
   "metadata": {},
   "outputs": [
    {
     "name": "stdout",
     "output_type": "stream",
     "text": [
      "Accuracy: 75.36 %\n",
      "Standard Deviation: 3.87 %\n"
     ]
    }
   ],
   "source": [
    "# 보팅 분류기를 불러옵니다.\n",
    "from sklearn.ensemble import VotingClassifier\n",
    "\n",
    "# 학습 환경을 설정합니다.\n",
    "clf1 = AdaBoostClassifier()\n",
    "clf2 = RandomForestClassifier()\n",
    "clf3 = SVC(kernel = 'linear')\n",
    "classifier = VotingClassifier(estimators=[('lr', clf1), ('rf', clf2), ('gnb', clf3)])\n",
    "classifier.fit(X_train, y_train)\n",
    " \n",
    "# 테스트셋에 적용합니다. \n",
    "y_pred = classifier.predict(X_test)\n",
    "\n",
    "# 계층별 교차검증 환경을 설정합니다. \n",
    "skf=StratifiedKFold(n_splits=10, shuffle=True)\n",
    "\n",
    "# 교차 검증을 통해 정확도를 계산합니다. \n",
    "accuracies = cross_val_score(estimator = classifier, X = X_train, y = y_train, cv = skf)\n",
    "\n",
    "# 정확도와 표준편차를 출력합니다. \n",
    "print(\"Accuracy: {:.2f} %\".format(accuracies.mean()*100))\n",
    "print(\"Standard Deviation: {:.2f} %\".format(accuracies.std()*100))"
   ]
  },
  {
   "cell_type": "markdown",
   "id": "b892570a",
   "metadata": {},
   "source": [
    "### 10. 배깅"
   ]
  },
  {
   "cell_type": "code",
   "execution_count": 21,
   "id": "8635347b",
   "metadata": {},
   "outputs": [
    {
     "name": "stdout",
     "output_type": "stream",
     "text": [
      "Accuracy: 75.69 %\n",
      "Standard Deviation: 3.15 %\n"
     ]
    }
   ],
   "source": [
    "# 배깅 분류기를 불러옵니다.\n",
    "from sklearn.ensemble import BaggingClassifier\n",
    "\n",
    "# 학습 환경을 설정합니다.\n",
    "classifier = BaggingClassifier(base_estimator=SVC(kernel = 'rbf'), n_estimators=10, random_state=0)\n",
    "classifier.fit(X_train, y_train)\n",
    " \n",
    "# 테스트셋에 적용합니다. \n",
    "y_pred = classifier.predict(X_test)\n",
    "\n",
    "# 계층별 교차검증 환경을 설정합니다. \n",
    "skf=StratifiedKFold(n_splits=10, shuffle=True)\n",
    "\n",
    "# 교차 검증을 통해 정확도를 계산합니다. \n",
    "accuracies = cross_val_score(estimator = classifier, X = X_train, y = y_train, cv = skf)\n",
    "\n",
    "# 정확도와 표준편차를 출력합니다. \n",
    "print(\"Accuracy: {:.2f} %\".format(accuracies.mean()*100))\n",
    "print(\"Standard Deviation: {:.2f} %\".format(accuracies.std()*100))"
   ]
  },
  {
   "cell_type": "markdown",
   "id": "6a119ca7",
   "metadata": {},
   "source": [
    "### 여러 알고리즘 성능 한눈에 비교하기"
   ]
  },
  {
   "cell_type": "code",
   "execution_count": 12,
   "id": "eab3e692",
   "metadata": {},
   "outputs": [
    {
     "name": "stdout",
     "output_type": "stream",
     "text": [
      "Mean accuracy of D_tree : 67.35 %\n",
      "Mean accuracy of RF : 74.83 %\n",
      "Mean accuracy of GNB : 75.00 %\n",
      "Mean accuracy of KNN : 73.11 %\n",
      "Mean accuracy of Ada : 75.88 %\n",
      "Mean accuracy of QDA : 75.50 %\n",
      "Mean accuracy of SVM_l : 72.58 %\n",
      "Mean accuracy of SVM_k : 73.80 %\n",
      "Mean accuracy of Voting : 74.30 %\n",
      "Mean accuracy of Bagging : 74.82 %\n"
     ]
    },
    {
     "data": {
      "image/png": "[encoded data removed]",
      "text/plain": [
       "<Figure size 720x360 with 1 Axes>"
      ]
     },
     "metadata": {
      "needs_background": "light"
     },
     "output_type": "display_data"
    },
    {
     "data": {
      "image/png": "[encoded data removed]",
      "text/plain": [
       "<Figure size 720x360 with 1 Axes>"
      ]
     },
     "metadata": {
      "needs_background": "light"
     },
     "output_type": "display_data"
    }
   ],
   "source": [
    "# 사용할 분류기를 모두 지정합니다.\n",
    "classifiers = [DecisionTreeClassifier(),\n",
    "               RandomForestClassifier(),\n",
    "               GaussianNB(),\n",
    "               KNeighborsClassifier(),\n",
    "               SVC(kernel = 'linear'),\n",
    "               SVC(kernel = 'rbf'),\n",
    "               AdaBoostClassifier(),\n",
    "               QuadraticDiscriminantAnalysis(),\n",
    "               VotingClassifier(estimators=[('1', AdaBoostClassifier()), \n",
    "                                            ('2', RandomForestClassifier()), \n",
    "                                            ('3', SVC(kernel = 'linear'))]),\n",
    "               BaggingClassifier(base_estimator=clf3, n_estimators=10, random_state=0)\n",
    "              ]\n",
    "\n",
    "# 각 분류기의 이름을 지정합니다. \n",
    "classifier_names = ['D_tree',\n",
    "                    'RF', \n",
    "                    'GNB', \n",
    "                    'KNN', \n",
    "                    'Ada',\n",
    "                    'QDA',\n",
    "                    'SVM_l',\n",
    "                    'SVM_k',\n",
    "                    'Voting',\n",
    "                    'Bagging'\n",
    "                   ]\n",
    "\n",
    "# 결과가 저장될 리스트를 만듭니다.\n",
    "modelaccuracies = []\n",
    "modelmeans = []\n",
    "modelnames = []\n",
    "\n",
    "# 각 분류기를 실행하여 결과를 저장합니다. \n",
    "classifier_data=zip(classifier_names, classifiers)\n",
    "for classifier_name, classifier in classifier_data:\n",
    "    # 계층별 교차검증 환경을 설정합니다. \n",
    "    skf=StratifiedKFold(n_splits=10, shuffle=True)\n",
    "    # 교차 검증을 통해 정확도를 계산합니다. \n",
    "    accuracies=cross_val_score(classifier, X = X_train, y = y_train, cv = skf)\n",
    "    # 정확도의 평균값을 출력합니다.\n",
    "    print(\"Mean accuracy of\", classifier_name, \": {:.2f} %\".format(accuracies.mean()*100))\n",
    "    # 결과를 저장합니다.\n",
    "    modelaccuracies.append(accuracies)\n",
    "    modelnames.append(classifier_name)\n",
    "    modelmeans.append(accuracies.mean()*100)  \n",
    "\n",
    "# 각 분류기 별 정확도의 평균값을 막대그래프로 출력합니다.\n",
    "plt.figure(figsize=(10,5))    \n",
    "plt.ylim([60, 80])\n",
    "plt.bar(modelnames, modelmeans);\n",
    "\n",
    "# 각 분류기 별 결과를 Box그래프로 출력합니다.\n",
    "fig = plt.figure(figsize=(10,5))\n",
    "ax = fig.add_subplot(111)\n",
    "ax.boxplot(modelaccuracies)\n",
    "ax.set_xticklabels(modelnames)\n",
    "plt.show()"
   ]
  },
  {
   "cell_type": "code",
   "execution_count": null,
   "id": "e1a8beb1",
   "metadata": {},
   "outputs": [],
   "source": []
  }
 ],
 "metadata": {
  "kernelspec": {
   "display_name": "Python 3 (ipykernel)",
   "language": "python",
   "name": "python3"
  },
  "language_info": {
   "codemirror_mode": {
    "name": "ipython",
    "version": 3
   },
   "file_extension": ".py",
   "mimetype": "text/x-python",
   "name": "python",
   "nbconvert_exporter": "python",
   "pygments_lexer": "ipython3",
   "version": "3.8.12"
  }
 },
 "nbformat": 4,
 "nbformat_minor": 5
}
