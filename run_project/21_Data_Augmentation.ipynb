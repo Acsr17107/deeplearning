{
 "cells": [
  {
   "cell_type": "markdown",
   "metadata": {},
   "source": [
    "# 20장 전이 학습을 통해 딥러닝의 성능 극대화하기"
   ]
  },
  {
   "cell_type": "markdown",
   "metadata": {},
   "source": [
    "## 1. 소규모 데이터셋으로 만드는 강력한 학습 모델"
   ]
  },
  {
   "cell_type": "code",
   "execution_count": 1,
   "metadata": {
    "scrolled": true
   },
   "outputs": [
    {
     "name": "stdout",
     "output_type": "stream",
     "text": [
      "Found 160 images belonging to 2 classes.\n",
      "Found 120 images belonging to 2 classes.\n",
      "Model: \"sequential\"\n",
      "_________________________________________________________________\n",
      "Layer (type)                 Output Shape              Param #   \n",
      "=================================================================\n",
      "conv2d (Conv2D)              (None, 148, 148, 32)      896       \n",
      "_________________________________________________________________\n",
      "activation (Activation)      (None, 148, 148, 32)      0         \n",
      "_________________________________________________________________\n",
      "max_pooling2d (MaxPooling2D) (None, 74, 74, 32)        0         \n",
      "_________________________________________________________________\n",
      "conv2d_1 (Conv2D)            (None, 72, 72, 32)        9248      \n",
      "_________________________________________________________________\n",
      "activation_1 (Activation)    (None, 72, 72, 32)        0         \n",
      "_________________________________________________________________\n",
      "max_pooling2d_1 (MaxPooling2 (None, 36, 36, 32)        0         \n",
      "_________________________________________________________________\n",
      "conv2d_2 (Conv2D)            (None, 34, 34, 64)        18496     \n",
      "_________________________________________________________________\n",
      "activation_2 (Activation)    (None, 34, 34, 64)        0         \n",
      "_________________________________________________________________\n",
      "max_pooling2d_2 (MaxPooling2 (None, 17, 17, 64)        0         \n",
      "_________________________________________________________________\n",
      "flatten (Flatten)            (None, 18496)             0         \n",
      "_________________________________________________________________\n",
      "dense (Dense)                (None, 64)                1183808   \n",
      "_________________________________________________________________\n",
      "activation_3 (Activation)    (None, 64)                0         \n",
      "_________________________________________________________________\n",
      "dropout (Dropout)            (None, 64)                0         \n",
      "_________________________________________________________________\n",
      "dense_1 (Dense)              (None, 1)                 65        \n",
      "_________________________________________________________________\n",
      "activation_4 (Activation)    (None, 1)                 0         \n",
      "=================================================================\n",
      "Total params: 1,212,513\n",
      "Trainable params: 1,212,513\n",
      "Non-trainable params: 0\n",
      "_________________________________________________________________\n"
     ]
    }
   ],
   "source": [
    "from tensorflow.keras.models import Sequential\n",
    "from tensorflow.keras.layers import Dense, Activation, Dropout, Flatten, Conv2D, MaxPooling2D\n",
    "from tensorflow.keras.preprocessing.image import ImageDataGenerator\n",
    "from tensorflow.keras.callbacks import EarlyStopping\n",
    "from tensorflow.keras import optimizers\n",
    "\n",
    "import numpy as np\n",
    "import matplotlib.pyplot as plt\n",
    "\n",
    "#학습셋의 변형을 설정하는 부분입니다. \n",
    "train_datagen = ImageDataGenerator(rescale=1./255,          #주어진 이미지의 크기를 설정합니다.\n",
    "                                  horizontal_flip=True,     #수평 대칭 이미지를 50% 확률로 만들어 추가합니다.\n",
    "                                  width_shift_range=0.1,    #전체 크기의 15% 범위에서 좌우로 이동합니다.\n",
    "                                  height_shift_range=0.1,   #마찬가지로 위, 아래로 이동합니다.\n",
    "                                  #rotation_range=5,        #정해진 각도만큼 회전시킵니다.\n",
    "                                  #shear_range=0.7,         #좌표 하나를 고정시키고 나머지를 이동시킵니다.\n",
    "                                  #zoom_range=[0.9, 2.2],   #확대 또는 축소시킵니다.\n",
    "                                  #vertical_flip=True,      #수직 대칭 이미지를 만듭니다.\n",
    "                                  #fill_mode='nearest'      #빈공간을 채우는 방법입니다. nearest옵션은 가장 비슷한 색으로 채우게 됩니다.\n",
    "                                  )      \n",
    "\n",
    "train_generator = train_datagen.flow_from_directory(\n",
    "       '../data/train',   #학습셋이 있는 폴더의 위치입니다.\n",
    "       target_size=(150, 150),\n",
    "       batch_size=5,\n",
    "       class_mode='binary')\n",
    "\n",
    "#테스트 셋은 이미지 부풀리기 과정을 진행하지 않습니다.\n",
    "test_datagen = ImageDataGenerator(rescale=1./255)  \n",
    "\n",
    "test_generator = test_datagen.flow_from_directory(\n",
    "       '../data/test',   #테스트셋이 있는 폴더의 위치입니다.\n",
    "       target_size=(150, 150),\n",
    "       batch_size=5,\n",
    "       class_mode='binary')\n",
    "\n",
    "\n",
    "# 앞서 배운 CNN 모델을 만들어 적용해 보겠습니다.\n",
    "model = Sequential()\n",
    "model.add(Conv2D(32, (3, 3), input_shape=(150,150,3)))\n",
    "model.add(Activation('relu'))\n",
    "model.add(MaxPooling2D(pool_size=(2, 2)))\n",
    "\n",
    "model.add(Conv2D(32, (3, 3)))\n",
    "model.add(Activation('relu'))\n",
    "model.add(MaxPooling2D(pool_size=(2, 2)))\n",
    "\n",
    "model.add(Conv2D(64, (3, 3)))\n",
    "model.add(Activation('relu'))\n",
    "model.add(MaxPooling2D(pool_size=(2, 2)))\n",
    "\n",
    "model.add(Flatten())\n",
    "model.add(Dense(64))\n",
    "model.add(Activation('relu'))\n",
    "model.add(Dropout(0.5))\n",
    "model.add(Dense(1))\n",
    "model.add(Activation('sigmoid'))\n",
    "model.summary()"
   ]
  },
  {
   "cell_type": "code",
   "execution_count": 2,
   "metadata": {
    "scrolled": true
   },
   "outputs": [
    {
     "name": "stdout",
     "output_type": "stream",
     "text": [
      "Epoch 1/100\n",
      "32/32 [==============================] - 4s 22ms/step - loss: 0.6880 - accuracy: 0.5625 - val_loss: 0.6814 - val_accuracy: 0.6400\n",
      "Epoch 2/100\n",
      "32/32 [==============================] - 1s 19ms/step - loss: 0.7089 - accuracy: 0.4688 - val_loss: 0.6793 - val_accuracy: 0.6600\n",
      "Epoch 3/100\n",
      "32/32 [==============================] - 1s 19ms/step - loss: 0.6771 - accuracy: 0.5813 - val_loss: 0.6807 - val_accuracy: 0.5200\n",
      "Epoch 4/100\n",
      "32/32 [==============================] - 1s 19ms/step - loss: 0.6690 - accuracy: 0.6625 - val_loss: 0.6368 - val_accuracy: 0.5800\n",
      "Epoch 5/100\n",
      "32/32 [==============================] - 1s 20ms/step - loss: 0.6622 - accuracy: 0.6062 - val_loss: 0.5995 - val_accuracy: 0.7400\n",
      "Epoch 6/100\n",
      "32/32 [==============================] - 1s 19ms/step - loss: 0.5958 - accuracy: 0.7188 - val_loss: 0.7381 - val_accuracy: 0.5600\n",
      "Epoch 7/100\n",
      "32/32 [==============================] - 1s 19ms/step - loss: 0.6267 - accuracy: 0.6438 - val_loss: 0.7151 - val_accuracy: 0.5000\n",
      "Epoch 8/100\n",
      "32/32 [==============================] - 1s 19ms/step - loss: 0.5812 - accuracy: 0.7250 - val_loss: 0.5567 - val_accuracy: 0.7000\n",
      "Epoch 9/100\n",
      "32/32 [==============================] - 1s 20ms/step - loss: 0.5158 - accuracy: 0.7750 - val_loss: 0.4795 - val_accuracy: 0.7600\n",
      "Epoch 10/100\n",
      "32/32 [==============================] - 1s 19ms/step - loss: 0.4847 - accuracy: 0.7625 - val_loss: 0.3926 - val_accuracy: 0.8000\n",
      "Epoch 11/100\n",
      "32/32 [==============================] - 1s 19ms/step - loss: 0.3795 - accuracy: 0.8375 - val_loss: 0.3424 - val_accuracy: 0.8600\n",
      "Epoch 12/100\n",
      "32/32 [==============================] - 1s 19ms/step - loss: 0.3700 - accuracy: 0.8250 - val_loss: 0.2354 - val_accuracy: 0.9600\n",
      "Epoch 13/100\n",
      "32/32 [==============================] - 1s 20ms/step - loss: 0.3062 - accuracy: 0.8938 - val_loss: 0.2012 - val_accuracy: 0.9000\n",
      "Epoch 14/100\n",
      "32/32 [==============================] - 1s 19ms/step - loss: 0.2717 - accuracy: 0.8750 - val_loss: 0.1437 - val_accuracy: 0.9800\n",
      "Epoch 15/100\n",
      "32/32 [==============================] - 1s 20ms/step - loss: 0.3121 - accuracy: 0.8500 - val_loss: 0.2824 - val_accuracy: 0.8400\n",
      "Epoch 16/100\n",
      "32/32 [==============================] - 1s 19ms/step - loss: 0.2188 - accuracy: 0.9250 - val_loss: 0.1593 - val_accuracy: 0.9600\n",
      "Epoch 17/100\n",
      "32/32 [==============================] - 1s 19ms/step - loss: 0.2020 - accuracy: 0.9187 - val_loss: 0.1101 - val_accuracy: 0.9600\n",
      "Epoch 18/100\n",
      "32/32 [==============================] - 1s 20ms/step - loss: 0.1840 - accuracy: 0.9187 - val_loss: 0.1724 - val_accuracy: 0.9400\n",
      "Epoch 19/100\n",
      "32/32 [==============================] - 1s 19ms/step - loss: 0.1514 - accuracy: 0.9500 - val_loss: 0.3193 - val_accuracy: 0.8600\n",
      "Epoch 20/100\n",
      "32/32 [==============================] - 1s 19ms/step - loss: 0.1168 - accuracy: 0.9688 - val_loss: 0.1304 - val_accuracy: 0.9400\n",
      "Epoch 21/100\n",
      "32/32 [==============================] - 1s 19ms/step - loss: 0.2243 - accuracy: 0.9125 - val_loss: 0.1201 - val_accuracy: 0.9800\n",
      "Epoch 22/100\n",
      "32/32 [==============================] - 1s 19ms/step - loss: 0.1124 - accuracy: 0.9750 - val_loss: 0.1355 - val_accuracy: 0.9400\n"
     ]
    }
   ],
   "source": [
    "#모델 실행의 옵션을 설정합니다. \n",
    "model.compile(loss='binary_crossentropy', optimizer=optimizers.Adam(learning_rate=0.0002), metrics=['accuracy'])\n",
    "\n",
    "# 학습의 조기 중단을 설정합니다.\n",
    "early_stopping_callback = EarlyStopping(monitor='val_loss', patience=5)\n",
    "\n",
    "#모델을 실행합니다\n",
    "history = model.fit(\n",
    "       train_generator,\n",
    "       epochs=100,\n",
    "       validation_data=test_generator,\n",
    "       validation_steps=10, \n",
    "       callbacks=[early_stopping_callback])"
   ]
  },
  {
   "cell_type": "code",
   "execution_count": 3,
   "metadata": {},
   "outputs": [
    {
     "data": {
      "image/png": "[encoded data removed]",
      "text/plain": [
       "<Figure size 432x288 with 1 Axes>"
      ]
     },
     "metadata": {
      "needs_background": "light"
     },
     "output_type": "display_data"
    }
   ],
   "source": [
    "# 검증셋과 학습셋의 오차를 저장합니다.\n",
    "y_vloss = history.history['val_loss']\n",
    "y_loss = history.history['loss']\n",
    "\n",
    "# 그래프로 표현해 봅니다.\n",
    "x_len = np.arange(len(y_loss))\n",
    "plt.plot(x_len, y_vloss, marker='.', c=\"red\", label='Testset_loss')\n",
    "plt.plot(x_len, y_loss, marker='.', c=\"blue\", label='Trainset_loss')\n",
    "\n",
    "# 그래프에 그리드를 주고 레이블을 표시하겠습니다.\n",
    "plt.legend(loc='upper right')\n",
    "plt.grid()\n",
    "plt.xlabel('epoch')\n",
    "plt.ylabel('loss')\n",
    "plt.show()"
   ]
  },
  {
   "cell_type": "code",
   "execution_count": null,
   "metadata": {},
   "outputs": [],
   "source": []
  }
 ],
 "metadata": {
  "kernelspec": {
   "display_name": "Python 3 (ipykernel)",
   "language": "python",
   "name": "python3"
  },
  "language_info": {
   "codemirror_mode": {
    "name": "ipython",
    "version": 3
   },
   "file_extension": ".py",
   "mimetype": "text/x-python",
   "name": "python",
   "nbconvert_exporter": "python",
   "pygments_lexer": "ipython3",
   "version": "3.8.12"
  }
 },
 "nbformat": 4,
 "nbformat_minor": 2
}
