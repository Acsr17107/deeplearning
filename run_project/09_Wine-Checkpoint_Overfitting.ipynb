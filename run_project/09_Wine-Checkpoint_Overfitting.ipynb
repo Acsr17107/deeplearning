{
 "cells": [
  {
   "cell_type": "markdown",
   "metadata": {},
   "source": [
    "[<img style=\"float: right;\" src=\"https://raw.githubusercontent.com/taehojo/taehojo.github.io/master/assets/images/linktocolab.png\" /> ](https://colab.research.google.com/github/taehojo/deeplearning_for_everyone_3rd/blob/master/run_project/09_Wine-Checkpoint_Overfitting.ipynb)"
   ]
  },
  {
   "cell_type": "markdown",
   "metadata": {},
   "source": [
    "# 14장 모델의 성능 향상시키기"
   ]
  },
  {
   "cell_type": "markdown",
   "metadata": {},
   "source": [
    "## 2. 모델의 업데이트 확인하기"
   ]
  },
  {
   "cell_type": "markdown",
   "metadata": {},
   "source": [
    "### 기본 코드 불러오기"
   ]
  },
  {
   "cell_type": "code",
   "execution_count": 1,
   "metadata": {},
   "outputs": [
    {
     "name": "stdout",
     "output_type": "stream",
     "text": [
      "Model: \"sequential\"\n",
      "_________________________________________________________________\n",
      "Layer (type)                 Output Shape              Param #   \n",
      "=================================================================\n",
      "dense (Dense)                (None, 30)                390       \n",
      "_________________________________________________________________\n",
      "dense_1 (Dense)              (None, 12)                372       \n",
      "_________________________________________________________________\n",
      "dense_2 (Dense)              (None, 8)                 104       \n",
      "_________________________________________________________________\n",
      "dense_3 (Dense)              (None, 1)                 9         \n",
      "=================================================================\n",
      "Total params: 875\n",
      "Trainable params: 875\n",
      "Non-trainable params: 0\n",
      "_________________________________________________________________\n"
     ]
    }
   ],
   "source": [
    "from tensorflow.keras.models import Sequential\n",
    "from tensorflow.keras.layers import Dense\n",
    "from tensorflow.keras.callbacks import ModelCheckpoint\n",
    "from sklearn.model_selection import train_test_split\n",
    "\n",
    "import os\n",
    "import pandas as pd\n",
    "import numpy as np\n",
    "import matplotlib.pyplot as plt\n",
    "\n",
    "# 데이터를 입력합니다.\n",
    "df = pd.read_csv('../data/wine.csv', header=None)\n",
    "\n",
    "# 와인의 속성을 X로 와인의 분류를 y로 저장합니다.\n",
    "X = df.iloc[:,0:12]\n",
    "y = df.iloc[:,12]\n",
    "\n",
    "#학습셋과 테스트셋으로 나눕니다.\n",
    "X_train, X_test, y_train, y_test = train_test_split(X, y, test_size=0.2, shuffle=True)\n",
    "\n",
    "# 모델 구조를 설정합니다.\n",
    "model = Sequential()\n",
    "model.add(Dense(30,  input_dim=12, activation='relu'))\n",
    "model.add(Dense(12, activation='relu'))\n",
    "model.add(Dense(8, activation='relu'))\n",
    "model.add(Dense(1, activation='sigmoid'))\n",
    "model.summary()\n",
    "\n",
    "#모델을 컴파일합니다.\n",
    "model.compile(loss='binary_crossentropy', optimizer='adam', metrics=['accuracy'])\n"
   ]
  },
  {
   "cell_type": "markdown",
   "metadata": {},
   "source": [
    "### 모델의 저장 설정 및 실행"
   ]
  },
  {
   "cell_type": "code",
   "execution_count": 2,
   "metadata": {},
   "outputs": [
    {
     "name": "stdout",
     "output_type": "stream",
     "text": [
      "\n",
      "Epoch 00001: saving model to ../data/model/all\\01-0.7685.hdf5\n",
      "\n",
      "Epoch 00002: saving model to ../data/model/all\\02-0.8800.hdf5\n",
      "\n",
      "Epoch 00003: saving model to ../data/model/all\\03-0.8708.hdf5\n",
      "\n",
      "Epoch 00004: saving model to ../data/model/all\\04-0.8708.hdf5\n",
      "\n",
      "Epoch 00005: saving model to ../data/model/all\\05-0.8923.hdf5\n",
      "\n",
      "Epoch 00006: saving model to ../data/model/all\\06-0.9077.hdf5\n",
      "\n",
      "Epoch 00007: saving model to ../data/model/all\\07-0.9077.hdf5\n",
      "\n",
      "Epoch 00008: saving model to ../data/model/all\\08-0.9131.hdf5\n",
      "\n",
      "Epoch 00009: saving model to ../data/model/all\\09-0.9138.hdf5\n",
      "\n",
      "Epoch 00010: saving model to ../data/model/all\\10-0.9154.hdf5\n",
      "\n",
      "Epoch 00011: saving model to ../data/model/all\\11-0.9162.hdf5\n",
      "\n",
      "Epoch 00012: saving model to ../data/model/all\\12-0.9185.hdf5\n",
      "\n",
      "Epoch 00013: saving model to ../data/model/all\\13-0.9185.hdf5\n",
      "\n",
      "Epoch 00014: saving model to ../data/model/all\\14-0.9200.hdf5\n",
      "\n",
      "Epoch 00015: saving model to ../data/model/all\\15-0.9177.hdf5\n",
      "\n",
      "Epoch 00016: saving model to ../data/model/all\\16-0.9192.hdf5\n",
      "\n",
      "Epoch 00017: saving model to ../data/model/all\\17-0.9192.hdf5\n",
      "\n",
      "Epoch 00018: saving model to ../data/model/all\\18-0.9185.hdf5\n",
      "\n",
      "Epoch 00019: saving model to ../data/model/all\\19-0.9200.hdf5\n",
      "\n",
      "Epoch 00020: saving model to ../data/model/all\\20-0.9200.hdf5\n",
      "\n",
      "Epoch 00021: saving model to ../data/model/all\\21-0.9208.hdf5\n",
      "\n",
      "Epoch 00022: saving model to ../data/model/all\\22-0.9215.hdf5\n",
      "\n",
      "Epoch 00023: saving model to ../data/model/all\\23-0.9215.hdf5\n",
      "\n",
      "Epoch 00024: saving model to ../data/model/all\\24-0.9223.hdf5\n",
      "\n",
      "Epoch 00025: saving model to ../data/model/all\\25-0.9223.hdf5\n",
      "\n",
      "Epoch 00026: saving model to ../data/model/all\\26-0.9208.hdf5\n",
      "\n",
      "Epoch 00027: saving model to ../data/model/all\\27-0.9223.hdf5\n",
      "\n",
      "Epoch 00028: saving model to ../data/model/all\\28-0.9223.hdf5\n",
      "\n",
      "Epoch 00029: saving model to ../data/model/all\\29-0.9215.hdf5\n",
      "\n",
      "Epoch 00030: saving model to ../data/model/all\\30-0.9223.hdf5\n",
      "\n",
      "Epoch 00031: saving model to ../data/model/all\\31-0.9223.hdf5\n",
      "\n",
      "Epoch 00032: saving model to ../data/model/all\\32-0.9223.hdf5\n",
      "\n",
      "Epoch 00033: saving model to ../data/model/all\\33-0.9246.hdf5\n",
      "\n",
      "Epoch 00034: saving model to ../data/model/all\\34-0.9238.hdf5\n",
      "\n",
      "Epoch 00035: saving model to ../data/model/all\\35-0.9238.hdf5\n",
      "\n",
      "Epoch 00036: saving model to ../data/model/all\\36-0.9246.hdf5\n",
      "\n",
      "Epoch 00037: saving model to ../data/model/all\\37-0.9262.hdf5\n",
      "\n",
      "Epoch 00038: saving model to ../data/model/all\\38-0.9262.hdf5\n",
      "\n",
      "Epoch 00039: saving model to ../data/model/all\\39-0.9262.hdf5\n",
      "\n",
      "Epoch 00040: saving model to ../data/model/all\\40-0.9269.hdf5\n",
      "\n",
      "Epoch 00041: saving model to ../data/model/all\\41-0.9269.hdf5\n",
      "\n",
      "Epoch 00042: saving model to ../data/model/all\\42-0.9277.hdf5\n",
      "\n",
      "Epoch 00043: saving model to ../data/model/all\\43-0.9277.hdf5\n",
      "\n",
      "Epoch 00044: saving model to ../data/model/all\\44-0.9292.hdf5\n",
      "\n",
      "Epoch 00045: saving model to ../data/model/all\\45-0.9285.hdf5\n",
      "\n",
      "Epoch 00046: saving model to ../data/model/all\\46-0.9285.hdf5\n",
      "\n",
      "Epoch 00047: saving model to ../data/model/all\\47-0.9292.hdf5\n",
      "\n",
      "Epoch 00048: saving model to ../data/model/all\\48-0.9285.hdf5\n",
      "\n",
      "Epoch 00049: saving model to ../data/model/all\\49-0.9292.hdf5\n",
      "\n",
      "Epoch 00050: saving model to ../data/model/all\\50-0.9308.hdf5\n"
     ]
    }
   ],
   "source": [
    "# 모델 저장의 조건을 설정합니다.\n",
    "modelpath=\"../data/model/all/{epoch:02d}-{val_accuracy:.4f}.hdf5\"\n",
    "checkpointer = ModelCheckpoint(filepath=modelpath, verbose=1)\n",
    "\n",
    "# 모델을 실행합니다. \n",
    "history=model.fit(X_train, y_train, epochs=50, batch_size=500, validation_split=0.25, verbose=0, callbacks=[checkpointer])"
   ]
  },
  {
   "cell_type": "code",
   "execution_count": 3,
   "metadata": {},
   "outputs": [
    {
     "name": "stdout",
     "output_type": "stream",
     "text": [
      "41/41 [==============================] - 0s 1ms/step - loss: 0.1590 - accuracy: 0.9423\n",
      "Test accuracy: 0.942307710647583\n"
     ]
    }
   ],
   "source": [
    "# 테스트 결과를 출력합니다.\n",
    "score=model.evaluate(X_test, y_test)\n",
    "print('Test accuracy:', score[1])"
   ]
  },
  {
   "cell_type": "markdown",
   "metadata": {},
   "source": [
    "## 3. 과적합 확인하기"
   ]
  },
  {
   "cell_type": "code",
   "execution_count": 4,
   "metadata": {},
   "outputs": [],
   "source": [
    "# 그래프 확인을 위한 긴 학습 (컴퓨터 환경에 따라 시간이 다소 걸릴수 있습니다)\n",
    "history=model.fit(X_train, y_train, epochs=2000, batch_size=500, verbose=0, validation_split=0.25) "
   ]
  },
  {
   "cell_type": "code",
   "execution_count": 5,
   "metadata": {},
   "outputs": [
    {
     "data": {
      "text/html": [
       "<div>\n",
       "<style scoped>\n",
       "    .dataframe tbody tr th:only-of-type {\n",
       "        vertical-align: middle;\n",
       "    }\n",
       "\n",
       "    .dataframe tbody tr th {\n",
       "        vertical-align: top;\n",
       "    }\n",
       "\n",
       "    .dataframe thead th {\n",
       "        text-align: right;\n",
       "    }\n",
       "</style>\n",
       "<table border=\"1\" class=\"dataframe\">\n",
       "  <thead>\n",
       "    <tr style=\"text-align: right;\">\n",
       "      <th></th>\n",
       "      <th>loss</th>\n",
       "      <th>accuracy</th>\n",
       "      <th>val_loss</th>\n",
       "      <th>val_accuracy</th>\n",
       "    </tr>\n",
       "  </thead>\n",
       "  <tbody>\n",
       "    <tr>\n",
       "      <th>0</th>\n",
       "      <td>0.157924</td>\n",
       "      <td>0.944316</td>\n",
       "      <td>0.173545</td>\n",
       "      <td>0.931538</td>\n",
       "    </tr>\n",
       "    <tr>\n",
       "      <th>1</th>\n",
       "      <td>0.156247</td>\n",
       "      <td>0.943546</td>\n",
       "      <td>0.168429</td>\n",
       "      <td>0.933846</td>\n",
       "    </tr>\n",
       "    <tr>\n",
       "      <th>2</th>\n",
       "      <td>0.152906</td>\n",
       "      <td>0.942777</td>\n",
       "      <td>0.166696</td>\n",
       "      <td>0.933846</td>\n",
       "    </tr>\n",
       "    <tr>\n",
       "      <th>3</th>\n",
       "      <td>0.151120</td>\n",
       "      <td>0.945086</td>\n",
       "      <td>0.165191</td>\n",
       "      <td>0.932308</td>\n",
       "    </tr>\n",
       "    <tr>\n",
       "      <th>4</th>\n",
       "      <td>0.148956</td>\n",
       "      <td>0.945856</td>\n",
       "      <td>0.159559</td>\n",
       "      <td>0.936154</td>\n",
       "    </tr>\n",
       "    <tr>\n",
       "      <th>...</th>\n",
       "      <td>...</td>\n",
       "      <td>...</td>\n",
       "      <td>...</td>\n",
       "      <td>...</td>\n",
       "    </tr>\n",
       "    <tr>\n",
       "      <th>1995</th>\n",
       "      <td>0.018356</td>\n",
       "      <td>0.994355</td>\n",
       "      <td>0.066240</td>\n",
       "      <td>0.985385</td>\n",
       "    </tr>\n",
       "    <tr>\n",
       "      <th>1996</th>\n",
       "      <td>0.017976</td>\n",
       "      <td>0.994355</td>\n",
       "      <td>0.064675</td>\n",
       "      <td>0.985385</td>\n",
       "    </tr>\n",
       "    <tr>\n",
       "      <th>1997</th>\n",
       "      <td>0.018248</td>\n",
       "      <td>0.994098</td>\n",
       "      <td>0.064908</td>\n",
       "      <td>0.985385</td>\n",
       "    </tr>\n",
       "    <tr>\n",
       "      <th>1998</th>\n",
       "      <td>0.018649</td>\n",
       "      <td>0.994611</td>\n",
       "      <td>0.065713</td>\n",
       "      <td>0.984615</td>\n",
       "    </tr>\n",
       "    <tr>\n",
       "      <th>1999</th>\n",
       "      <td>0.019730</td>\n",
       "      <td>0.993841</td>\n",
       "      <td>0.068250</td>\n",
       "      <td>0.984615</td>\n",
       "    </tr>\n",
       "  </tbody>\n",
       "</table>\n",
       "<p>2000 rows × 4 columns</p>\n",
       "</div>"
      ],
      "text/plain": [
       "          loss  accuracy  val_loss  val_accuracy\n",
       "0     0.157924  0.944316  0.173545      0.931538\n",
       "1     0.156247  0.943546  0.168429      0.933846\n",
       "2     0.152906  0.942777  0.166696      0.933846\n",
       "3     0.151120  0.945086  0.165191      0.932308\n",
       "4     0.148956  0.945856  0.159559      0.936154\n",
       "...        ...       ...       ...           ...\n",
       "1995  0.018356  0.994355  0.066240      0.985385\n",
       "1996  0.017976  0.994355  0.064675      0.985385\n",
       "1997  0.018248  0.994098  0.064908      0.985385\n",
       "1998  0.018649  0.994611  0.065713      0.984615\n",
       "1999  0.019730  0.993841  0.068250      0.984615\n",
       "\n",
       "[2000 rows x 4 columns]"
      ]
     },
     "execution_count": 5,
     "metadata": {},
     "output_type": "execute_result"
    }
   ],
   "source": [
    "# history에 저장된 학습 결과를 확인해 보겠습니다. \n",
    "hist_df=pd.DataFrame(history.history)\n",
    "hist_df"
   ]
  },
  {
   "cell_type": "code",
   "execution_count": 6,
   "metadata": {},
   "outputs": [
    {
     "data": {
      "image/png": "[encoded data removed]",
      "text/plain": [
       "<Figure size 432x288 with 1 Axes>"
      ]
     },
     "metadata": {
      "needs_background": "light"
     },
     "output_type": "display_data"
    }
   ],
   "source": [
    "# y_vloss에 테스트셋의 오차를 저장합니다.\n",
    "y_vloss=hist_df['val_loss']\n",
    "\n",
    "# y_loss 에 학습셋의 오차를 저장합니다.\n",
    "y_loss=hist_df['loss']\n",
    "\n",
    "# x값을 지정하고 정확도를 파란색으로, 오차를 빨간색으로 표시합니다. \n",
    "x_len = np.arange(len(y_loss))\n",
    "plt.plot(x_len, y_vloss, \"o\", c=\"red\", markersize=2, label='Testset_loss')\n",
    "plt.plot(x_len, y_loss, \"o\", c=\"blue\", markersize=2, label='Trainset_loss')\n",
    "\n",
    "plt.legend(loc='upper right')\n",
    "plt.show()"
   ]
  },
  {
   "cell_type": "code",
   "execution_count": null,
   "metadata": {},
   "outputs": [],
   "source": []
  }
 ],
 "metadata": {
  "kernelspec": {
   "display_name": "Python 3 (ipykernel)",
   "language": "python",
   "name": "python3"
  },
  "language_info": {
   "codemirror_mode": {
    "name": "ipython",
    "version": 3
   },
   "file_extension": ".py",
   "mimetype": "text/x-python",
   "name": "python",
   "nbconvert_exporter": "python",
   "pygments_lexer": "ipython3",
   "version": "3.8.12"
  }
 },
 "nbformat": 4,
 "nbformat_minor": 2
}
