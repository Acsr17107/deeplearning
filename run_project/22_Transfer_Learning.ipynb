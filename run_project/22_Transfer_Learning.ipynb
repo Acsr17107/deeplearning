{
 "cells": [
  {
   "cell_type": "markdown",
   "metadata": {},
   "source": [
    "# 20장 전이 학습을 통해 딥러닝의 성능 극대화하기"
   ]
  },
  {
   "cell_type": "markdown",
   "metadata": {},
   "source": [
    "## 2. 전이 학습으로 모델 성능 극대화하기"
   ]
  },
  {
   "cell_type": "code",
   "execution_count": 1,
   "metadata": {},
   "outputs": [
    {
     "name": "stdout",
     "output_type": "stream",
     "text": [
      "Found 160 images belonging to 2 classes.\n",
      "Found 120 images belonging to 2 classes.\n",
      "Model: \"vgg16\"\n",
      "_________________________________________________________________\n",
      "Layer (type)                 Output Shape              Param #   \n",
      "=================================================================\n",
      "input_1 (InputLayer)         [(None, 150, 150, 3)]     0         \n",
      "_________________________________________________________________\n",
      "block1_conv1 (Conv2D)        (None, 150, 150, 64)      1792      \n",
      "_________________________________________________________________\n",
      "block1_conv2 (Conv2D)        (None, 150, 150, 64)      36928     \n",
      "_________________________________________________________________\n",
      "block1_pool (MaxPooling2D)   (None, 75, 75, 64)        0         \n",
      "_________________________________________________________________\n",
      "block2_conv1 (Conv2D)        (None, 75, 75, 128)       73856     \n",
      "_________________________________________________________________\n",
      "block2_conv2 (Conv2D)        (None, 75, 75, 128)       147584    \n",
      "_________________________________________________________________\n",
      "block2_pool (MaxPooling2D)   (None, 37, 37, 128)       0         \n",
      "_________________________________________________________________\n",
      "block3_conv1 (Conv2D)        (None, 37, 37, 256)       295168    \n",
      "_________________________________________________________________\n",
      "block3_conv2 (Conv2D)        (None, 37, 37, 256)       590080    \n",
      "_________________________________________________________________\n",
      "block3_conv3 (Conv2D)        (None, 37, 37, 256)       590080    \n",
      "_________________________________________________________________\n",
      "block3_pool (MaxPooling2D)   (None, 18, 18, 256)       0         \n",
      "_________________________________________________________________\n",
      "block4_conv1 (Conv2D)        (None, 18, 18, 512)       1180160   \n",
      "_________________________________________________________________\n",
      "block4_conv2 (Conv2D)        (None, 18, 18, 512)       2359808   \n",
      "_________________________________________________________________\n",
      "block4_conv3 (Conv2D)        (None, 18, 18, 512)       2359808   \n",
      "_________________________________________________________________\n",
      "block4_pool (MaxPooling2D)   (None, 9, 9, 512)         0         \n",
      "_________________________________________________________________\n",
      "block5_conv1 (Conv2D)        (None, 9, 9, 512)         2359808   \n",
      "_________________________________________________________________\n",
      "block5_conv2 (Conv2D)        (None, 9, 9, 512)         2359808   \n",
      "_________________________________________________________________\n",
      "block5_conv3 (Conv2D)        (None, 9, 9, 512)         2359808   \n",
      "_________________________________________________________________\n",
      "block5_pool (MaxPooling2D)   (None, 4, 4, 512)         0         \n",
      "=================================================================\n",
      "Total params: 14,714,688\n",
      "Trainable params: 0\n",
      "Non-trainable params: 14,714,688\n",
      "_________________________________________________________________\n",
      "Model: \"sequential\"\n",
      "_________________________________________________________________\n",
      "Layer (type)                 Output Shape              Param #   \n",
      "=================================================================\n",
      "vgg16 (Functional)           (None, 4, 4, 512)         14714688  \n",
      "_________________________________________________________________\n",
      "flatten (Flatten)            (None, 8192)              0         \n",
      "_________________________________________________________________\n",
      "dense (Dense)                (None, 64)                524352    \n",
      "_________________________________________________________________\n",
      "activation (Activation)      (None, 64)                0         \n",
      "_________________________________________________________________\n",
      "dropout (Dropout)            (None, 64)                0         \n",
      "_________________________________________________________________\n",
      "dense_1 (Dense)              (None, 1)                 65        \n",
      "_________________________________________________________________\n",
      "activation_1 (Activation)    (None, 1)                 0         \n",
      "=================================================================\n",
      "Total params: 15,239,105\n",
      "Trainable params: 524,417\n",
      "Non-trainable params: 14,714,688\n",
      "_________________________________________________________________\n"
     ]
    }
   ],
   "source": [
    "from tensorflow.keras.preprocessing.image import ImageDataGenerator\n",
    "from tensorflow.keras import Input, models, layers, optimizers, metrics\n",
    "from tensorflow.keras.layers import Dense, Flatten, Activation, Dropout\n",
    "from tensorflow.keras.applications import VGG16\n",
    "from tensorflow.keras.callbacks import EarlyStopping\n",
    "import numpy as np\n",
    "import matplotlib.pyplot as plt\n",
    "\n",
    "#학습셋의 변형을 설정하는 부분입니다. \n",
    "train_datagen = ImageDataGenerator(rescale=1./255,          #주어진 이미지의 크기를 설정합니다.\n",
    "                                  horizontal_flip=True,     #수평 대칭 이미지를 50% 확률로 만들어 추가합니다.\n",
    "                                  width_shift_range=0.1,    #전체 크기의 15% 범위에서 좌우로 이동합니다.\n",
    "                                  height_shift_range=0.1,   #마찬가지로 위, 아래로 이동합니다.\n",
    "                                  #rotation_range=5,        #정해진 각도만큼 회전시킵니다.\n",
    "                                  #shear_range=0.7,         #좌표 하나를 고정시키고 나머지를 이동시킵니다.\n",
    "                                  #zoom_range=[0.9, 2.2],   #확대 또는 축소시킵니다.\n",
    "                                  #vertical_flip=True,      #수직 대칭 이미지를 만듭니다.\n",
    "                                  #fill_mode='nearest'      #빈공간을 채우는 방법입니다. nearest옵션은 가장 비슷한 색으로 채우게 됩니다.\n",
    "                                  )      \n",
    "\n",
    "\n",
    "train_generator = train_datagen.flow_from_directory(\n",
    "       '../data/train',\n",
    "       target_size=(150, 150),\n",
    "       batch_size=5,\n",
    "       class_mode='binary')\n",
    "\n",
    "#테스트셋의 정규화를 설정합니다.\n",
    "test_datagen = ImageDataGenerator(rescale=1./255)\n",
    "\n",
    "test_generator = test_datagen.flow_from_directory(\n",
    "       '../data/test',\n",
    "       target_size=(150, 150),\n",
    "       batch_size=5,\n",
    "       class_mode='binary')\n",
    "\n",
    "# VGG16 모델을 불러옵니다.\n",
    "transfer_model = VGG16(weights='imagenet', include_top=False, input_shape=(150, 150, 3))\n",
    "transfer_model.trainable = False\n",
    "transfer_model.summary()\n",
    "\n",
    "# 우리의 모델을 설정합니다.\n",
    "finetune_model = models.Sequential()\n",
    "finetune_model.add(transfer_model)\n",
    "finetune_model.add(Flatten())\n",
    "finetune_model.add(Dense(64))\n",
    "finetune_model.add(Activation('relu'))\n",
    "finetune_model.add(Dropout(0.5))\n",
    "finetune_model.add(Dense(1))\n",
    "finetune_model.add(Activation('sigmoid'))\n",
    "finetune_model.summary()"
   ]
  },
  {
   "cell_type": "code",
   "execution_count": 2,
   "metadata": {
    "scrolled": true
   },
   "outputs": [
    {
     "name": "stdout",
     "output_type": "stream",
     "text": [
      "Epoch 1/20\n",
      "32/32 [==============================] - 4s 27ms/step - loss: 0.7801 - accuracy: 0.5188 - val_loss: 0.5885 - val_accuracy: 0.8000\n",
      "Epoch 2/20\n",
      "32/32 [==============================] - 1s 21ms/step - loss: 0.5308 - accuracy: 0.7875 - val_loss: 0.4344 - val_accuracy: 0.8000\n",
      "Epoch 3/20\n",
      "32/32 [==============================] - 1s 22ms/step - loss: 0.4734 - accuracy: 0.7875 - val_loss: 0.4173 - val_accuracy: 0.8400\n",
      "Epoch 4/20\n",
      "32/32 [==============================] - 1s 22ms/step - loss: 0.3995 - accuracy: 0.8313 - val_loss: 0.3413 - val_accuracy: 0.8600\n",
      "Epoch 5/20\n",
      "32/32 [==============================] - 1s 23ms/step - loss: 0.2917 - accuracy: 0.9312 - val_loss: 0.2458 - val_accuracy: 0.9200\n",
      "Epoch 6/20\n",
      "32/32 [==============================] - 1s 22ms/step - loss: 0.2949 - accuracy: 0.9125 - val_loss: 0.3919 - val_accuracy: 0.8400\n",
      "Epoch 7/20\n",
      "32/32 [==============================] - 1s 22ms/step - loss: 0.3165 - accuracy: 0.8562 - val_loss: 0.2023 - val_accuracy: 0.9800\n",
      "Epoch 8/20\n",
      "32/32 [==============================] - 1s 22ms/step - loss: 0.2733 - accuracy: 0.9125 - val_loss: 0.2612 - val_accuracy: 0.8800\n",
      "Epoch 9/20\n",
      "32/32 [==============================] - 1s 23ms/step - loss: 0.2292 - accuracy: 0.9125 - val_loss: 0.2648 - val_accuracy: 0.9000\n",
      "Epoch 10/20\n",
      "32/32 [==============================] - 1s 22ms/step - loss: 0.2336 - accuracy: 0.9125 - val_loss: 0.2111 - val_accuracy: 0.8800\n",
      "Epoch 11/20\n",
      "32/32 [==============================] - 1s 22ms/step - loss: 0.2016 - accuracy: 0.9438 - val_loss: 0.1876 - val_accuracy: 0.9400\n",
      "Epoch 12/20\n",
      "32/32 [==============================] - 1s 22ms/step - loss: 0.1807 - accuracy: 0.9500 - val_loss: 0.1855 - val_accuracy: 0.9600\n",
      "Epoch 13/20\n",
      "32/32 [==============================] - 1s 22ms/step - loss: 0.1736 - accuracy: 0.9563 - val_loss: 0.1562 - val_accuracy: 0.9400\n",
      "Epoch 14/20\n",
      "32/32 [==============================] - 1s 22ms/step - loss: 0.1716 - accuracy: 0.9438 - val_loss: 0.1636 - val_accuracy: 0.9200\n",
      "Epoch 15/20\n",
      "32/32 [==============================] - 1s 22ms/step - loss: 0.1844 - accuracy: 0.9500 - val_loss: 0.1530 - val_accuracy: 0.9200\n",
      "Epoch 16/20\n",
      "32/32 [==============================] - 1s 22ms/step - loss: 0.1492 - accuracy: 0.9625 - val_loss: 0.1495 - val_accuracy: 0.9800\n",
      "Epoch 17/20\n",
      "32/32 [==============================] - 1s 22ms/step - loss: 0.1604 - accuracy: 0.9563 - val_loss: 0.1048 - val_accuracy: 0.9600\n",
      "Epoch 18/20\n",
      "32/32 [==============================] - 1s 22ms/step - loss: 0.1427 - accuracy: 0.9563 - val_loss: 0.1559 - val_accuracy: 0.9400\n",
      "Epoch 19/20\n",
      "32/32 [==============================] - 1s 22ms/step - loss: 0.1454 - accuracy: 0.9563 - val_loss: 0.1267 - val_accuracy: 0.9600\n",
      "Epoch 20/20\n",
      "32/32 [==============================] - 1s 22ms/step - loss: 0.1307 - accuracy: 0.9625 - val_loss: 0.1437 - val_accuracy: 0.9400\n"
     ]
    }
   ],
   "source": [
    "#모델 실행의 옵션을 설정합니다. \n",
    "finetune_model.compile(loss='binary_crossentropy', optimizer=optimizers.Adam(learning_rate=0.0002), metrics=['accuracy'])\n",
    "\n",
    "# 학습의 조기 중단을 설정합니다.\n",
    "early_stopping_callback = EarlyStopping(monitor='val_loss', patience=5)\n",
    "\n",
    "#모델을 실행합니다.\n",
    "history = finetune_model.fit(\n",
    "       train_generator,\n",
    "       epochs=20,\n",
    "       validation_data=test_generator,\n",
    "       validation_steps=10, \n",
    "       callbacks=[early_stopping_callback])"
   ]
  },
  {
   "cell_type": "code",
   "execution_count": 3,
   "metadata": {},
   "outputs": [
    {
     "data": {
      "image/png": "[encoded data removed]",
      "text/plain": [
       "<Figure size 432x288 with 1 Axes>"
      ]
     },
     "metadata": {
      "needs_background": "light"
     },
     "output_type": "display_data"
    }
   ],
   "source": [
    "# 검증셋과 학습셋의 오차를 저장합니다.\n",
    "y_vloss = history.history['val_loss']\n",
    "y_loss = history.history['loss']\n",
    "\n",
    "# 그래프로 표현해 봅니다.\n",
    "x_len = np.arange(len(y_loss))\n",
    "plt.plot(x_len, y_vloss, marker='.', c=\"red\", label='Testset_loss')\n",
    "plt.plot(x_len, y_loss, marker='.', c=\"blue\", label='Trainset_loss')\n",
    "\n",
    "# 그래프에 그리드를 주고 레이블을 표시하겠습니다.\n",
    "plt.legend(loc='upper right')\n",
    "plt.grid()\n",
    "plt.xlabel('epoch')\n",
    "plt.ylabel('loss')\n",
    "plt.show()"
   ]
  },
  {
   "cell_type": "code",
   "execution_count": null,
   "metadata": {},
   "outputs": [],
   "source": []
  }
 ],
 "metadata": {
  "kernelspec": {
   "display_name": "Python 3 (ipykernel)",
   "language": "python",
   "name": "python3"
  },
  "language_info": {
   "codemirror_mode": {
    "name": "ipython",
    "version": 3
   },
   "file_extension": ".py",
   "mimetype": "text/x-python",
   "name": "python",
   "nbconvert_exporter": "python",
   "pygments_lexer": "ipython3",
   "version": "3.8.12"
  }
 },
 "nbformat": 4,
 "nbformat_minor": 2
}
