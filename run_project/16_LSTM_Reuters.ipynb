{
 "cells": [
  {
   "cell_type": "markdown",
   "metadata": {},
   "source": [
    "# 18장 시퀀스 배열로 다루는 순환 신경망(RNN)"
   ]
  },
  {
   "cell_type": "markdown",
   "metadata": {},
   "source": [
    "## 1. LSTM을 이용한 로이터 뉴스 카테고리 분류하기"
   ]
  },
  {
   "cell_type": "code",
   "execution_count": 1,
   "metadata": {},
   "outputs": [
    {
     "name": "stdout",
     "output_type": "stream",
     "text": [
      "46 카테고리\n",
      "8982 학습용 뉴스 기사\n",
      "2246 테스트용 뉴스 기사\n",
      "[1, 2, 2, 8, 43, 10, 447, 5, 25, 207, 270, 5, 2, 111, 16, 369, 186, 90, 67, 7, 89, 5, 19, 102, 6, 19, 124, 15, 90, 67, 84, 22, 482, 26, 7, 48, 4, 49, 8, 864, 39, 209, 154, 6, 151, 6, 83, 11, 15, 22, 155, 11, 15, 7, 48, 9, 2, 2, 504, 6, 258, 6, 272, 11, 15, 22, 134, 44, 11, 15, 16, 8, 197, 2, 90, 67, 52, 29, 209, 30, 32, 132, 6, 109, 15, 17, 12]\n"
     ]
    }
   ],
   "source": [
    "from tensorflow.keras.models import Sequential\n",
    "from tensorflow.keras.layers import Dense,LSTM,Embedding\n",
    "from tensorflow.keras.utils import to_categorical\n",
    "from tensorflow.keras.preprocessing import sequence\n",
    "from tensorflow.keras.datasets import reuters\n",
    "from tensorflow.keras.callbacks import EarlyStopping\n",
    "\n",
    "import numpy as np\n",
    "import matplotlib.pyplot as plt\n",
    "\n",
    "# 데이터를 불러와 학습셋, 테스트셋으로 나눕니다.\n",
    "(X_train, y_train), (X_test, y_test) = reuters.load_data(num_words=1000, test_split=0.2)\n",
    "\n",
    "# 데이터를 확인해 보겠습니다.\n",
    "category = np.max(y_train) + 1\n",
    "print(category, '카테고리')\n",
    "print(len(X_train), '학습용 뉴스 기사')\n",
    "print(len(X_test), '테스트용 뉴스 기사')\n",
    "print(X_train[0])"
   ]
  },
  {
   "cell_type": "code",
   "execution_count": 2,
   "metadata": {},
   "outputs": [
    {
     "name": "stdout",
     "output_type": "stream",
     "text": [
      "Epoch 1/200\n",
      "450/450 [==============================] - 11s 8ms/step - loss: 2.2029 - accuracy: 0.4263 - val_loss: 1.9954 - val_accuracy: 0.4590\n",
      "Epoch 2/200\n",
      "450/450 [==============================] - 3s 7ms/step - loss: 1.7571 - accuracy: 0.5450 - val_loss: 1.6841 - val_accuracy: 0.5668\n",
      "Epoch 3/200\n",
      "450/450 [==============================] - 3s 8ms/step - loss: 1.6234 - accuracy: 0.5874 - val_loss: 1.5504 - val_accuracy: 0.6264\n",
      "Epoch 4/200\n",
      "450/450 [==============================] - 3s 7ms/step - loss: 1.4281 - accuracy: 0.6433 - val_loss: 1.4091 - val_accuracy: 0.6558\n",
      "Epoch 5/200\n",
      "450/450 [==============================] - 3s 7ms/step - loss: 1.2895 - accuracy: 0.6779 - val_loss: 1.3305 - val_accuracy: 0.6696\n",
      "Epoch 6/200\n",
      "450/450 [==============================] - 3s 7ms/step - loss: 1.2033 - accuracy: 0.6949 - val_loss: 1.2816 - val_accuracy: 0.6696\n",
      "Epoch 7/200\n",
      "450/450 [==============================] - 3s 8ms/step - loss: 1.1264 - accuracy: 0.7149 - val_loss: 1.2379 - val_accuracy: 0.6883\n",
      "Epoch 8/200\n",
      "450/450 [==============================] - 4s 8ms/step - loss: 1.0562 - accuracy: 0.7336 - val_loss: 1.2004 - val_accuracy: 0.7008\n",
      "Epoch 9/200\n",
      "450/450 [==============================] - 3s 8ms/step - loss: 0.9819 - accuracy: 0.7476 - val_loss: 1.1707 - val_accuracy: 0.6972\n",
      "Epoch 10/200\n",
      "450/450 [==============================] - 3s 7ms/step - loss: 0.9108 - accuracy: 0.7662 - val_loss: 1.1346 - val_accuracy: 0.7142\n",
      "Epoch 11/200\n",
      "450/450 [==============================] - 3s 7ms/step - loss: 0.8336 - accuracy: 0.7915 - val_loss: 1.1068 - val_accuracy: 0.7231\n",
      "Epoch 12/200\n",
      "450/450 [==============================] - 3s 7ms/step - loss: 0.7643 - accuracy: 0.8062 - val_loss: 1.1232 - val_accuracy: 0.7275\n",
      "Epoch 13/200\n",
      "450/450 [==============================] - 3s 7ms/step - loss: 0.7081 - accuracy: 0.8189 - val_loss: 1.1173 - val_accuracy: 0.7257\n",
      "Epoch 14/200\n",
      "450/450 [==============================] - 3s 8ms/step - loss: 0.6568 - accuracy: 0.8334 - val_loss: 1.1298 - val_accuracy: 0.7355\n",
      "Epoch 15/200\n",
      "450/450 [==============================] - 3s 7ms/step - loss: 0.5999 - accuracy: 0.8488 - val_loss: 1.1571 - val_accuracy: 0.7253\n",
      "Epoch 16/200\n",
      "450/450 [==============================] - 3s 7ms/step - loss: 0.5641 - accuracy: 0.8574 - val_loss: 1.1787 - val_accuracy: 0.7280\n",
      "71/71 [==============================] - 0s 3ms/step - loss: 1.1787 - accuracy: 0.7280\n",
      "\n",
      " Test Accuracy: 0.7280\n"
     ]
    }
   ],
   "source": [
    "# 단어의 수를 맞추어 줍니다. \n",
    "X_train = sequence.pad_sequences(X_train, maxlen=100)\n",
    "X_test = sequence.pad_sequences(X_test, maxlen=100)\n",
    "\n",
    "# 원-핫 인코딩 처리를 합니다.\n",
    "y_train = to_categorical(y_train)\n",
    "y_test = to_categorical(y_test)\n",
    "\n",
    "# 모델의 구조를 설정합니다.\n",
    "model = Sequential()\n",
    "model.add(Embedding(1000, 100))\n",
    "model.add(LSTM(100, activation='tanh'))\n",
    "model.add(Dense(46, activation='softmax'))\n",
    "\n",
    "# 모델의 실행 옵션을 정합니다.\n",
    "model.compile(loss='categorical_crossentropy', optimizer='adam', metrics=['accuracy'])\n",
    "\n",
    "# 학습의 조기 중단을 설정합니다.\n",
    "early_stopping_callback = EarlyStopping(monitor='val_loss', patience=5)\n",
    "\n",
    "# 모델을 실행합니다.\n",
    "history = model.fit(X_train, y_train, batch_size=20, epochs=200, validation_data=(X_test, y_test), callbacks=[early_stopping_callback])\n",
    "\n",
    "# 테스트 정확도를 출력합니다.\n",
    "print(\"\\n Test Accuracy: %.4f\" % (model.evaluate(X_test, y_test)[1]), verbose=0)"
   ]
  },
  {
   "cell_type": "code",
   "execution_count": 3,
   "metadata": {},
   "outputs": [
    {
     "data": {
      "image/png": "[encoded data removed]",
      "text/plain": [
       "<Figure size 432x288 with 1 Axes>"
      ]
     },
     "metadata": {
      "needs_background": "light"
     },
     "output_type": "display_data"
    }
   ],
   "source": [
    "# 학습셋과 테스트셋의 오차를 저장합니다. \n",
    "y_vloss = history.history['val_loss']\n",
    "y_loss = history.history['loss']\n",
    "\n",
    "# 그래프로 표현해 보겠습니다.\n",
    "x_len = np.arange(len(y_loss))\n",
    "plt.plot(x_len, y_vloss, marker='.', c=\"red\", label='Testset_loss')\n",
    "plt.plot(x_len, y_loss, marker='.', c=\"blue\", label='Trainset_loss')\n",
    "\n",
    "# 그래프에 그리드를 주고 레이블을 표시하겠습니다. \n",
    "plt.legend(loc='upper right')\n",
    "plt.grid()\n",
    "plt.xlabel('epoch')\n",
    "plt.ylabel('loss')\n",
    "plt.show()"
   ]
  }
 ],
 "metadata": {
  "kernelspec": {
   "display_name": "Python 3 (ipykernel)",
   "language": "python",
   "name": "python3"
  },
  "language_info": {
   "codemirror_mode": {
    "name": "ipython",
    "version": 3
   },
   "file_extension": ".py",
   "mimetype": "text/x-python",
   "name": "python",
   "nbconvert_exporter": "python",
   "pygments_lexer": "ipython3",
   "version": "3.8.12"
  }
 },
 "nbformat": 4,
 "nbformat_minor": 2
}
