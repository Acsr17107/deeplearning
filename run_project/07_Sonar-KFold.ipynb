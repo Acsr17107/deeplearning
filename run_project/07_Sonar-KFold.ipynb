{
 "cells": [
  {
   "cell_type": "markdown",
   "metadata": {},
   "source": [
    "[<img style=\"float: right;\" src=\"https://raw.githubusercontent.com/taehojo/taehojo.github.io/master/assets/images/linktocolab.png\" /> ](https://colab.research.google.com/github/taehojo/deeplearning_for_everyone_3rd/blob/master/run_project/07_Sonar-KFold.ipynb)"
   ]
  },
  {
   "cell_type": "markdown",
   "metadata": {},
   "source": [
    "# 13장 모델의 성능 검증하기"
   ]
  },
  {
   "cell_type": "markdown",
   "metadata": {},
   "source": [
    "## 5. k겹 교차 검증"
   ]
  },
  {
   "cell_type": "code",
   "execution_count": 1,
   "metadata": {},
   "outputs": [],
   "source": [
    "from tensorflow.keras.models import Sequential\n",
    "from tensorflow.keras.layers import Dense\n",
    "from sklearn.model_selection import KFold\n",
    "from sklearn.metrics import accuracy_score\n",
    "\n",
    "import pandas as pd"
   ]
  },
  {
   "cell_type": "code",
   "execution_count": 2,
   "metadata": {},
   "outputs": [],
   "source": [
    "# 데이터를 입력합니다.\n",
    "df = pd.read_csv('../data/sonar3.csv', header=None)"
   ]
  },
  {
   "cell_type": "code",
   "execution_count": 3,
   "metadata": {},
   "outputs": [],
   "source": [
    "# 음파 관련 속성을 X로, 광물의 종류를 y로 저장합니다.\n",
    "X = df.iloc[:,0:60]\n",
    "y = df.iloc[:,60]"
   ]
  },
  {
   "cell_type": "code",
   "execution_count": 4,
   "metadata": {},
   "outputs": [
    {
     "name": "stdout",
     "output_type": "stream",
     "text": [
      "2/2 [==============================] - 0s 3ms/step - loss: 0.6446 - accuracy: 0.8095\n",
      "2/2 [==============================] - 0s 2ms/step - loss: 0.4984 - accuracy: 0.8571\n",
      "2/2 [==============================] - 0s 2ms/step - loss: 0.5143 - accuracy: 0.7857\n",
      "2/2 [==============================] - 0s 2ms/step - loss: 1.0472 - accuracy: 0.7805\n",
      "2/2 [==============================] - 0s 3ms/step - loss: 0.2892 - accuracy: 0.8537\n",
      "정확도: [0.8095238208770752, 0.8571428656578064, 0.7857142686843872, 0.7804877758026123, 0.8536585569381714]\n",
      "정확도 평균: 0.8173054575920105\n"
     ]
    }
   ],
   "source": [
    "#몇겹으로 나눌 것인지를 정합니다. \n",
    "k=5\n",
    "\n",
    "#KFold 함수를 불러옵니다. 분할하기 전에 샘플이 치우치지 않도록 섞어 줍니다.\n",
    "kfold = KFold(n_splits=k, shuffle=True)\n",
    "\n",
    "#정확도가 채워질 빈 리스트를 준비합니다.\n",
    "acc_score = []\n",
    "\n",
    "def model_fn():\n",
    "    model = Sequential() #딥러닝 모델의 구조를 시작합니다.\n",
    "    model.add(Dense(24, input_dim=60, activation='relu'))\n",
    "    model.add(Dense(10, activation='relu'))\n",
    "    model.add(Dense(1, activation='sigmoid'))\n",
    "    return model\n",
    "\n",
    "#K겹 교차 검증을 이용해 k번의 학습을 실행합니다. \n",
    "for train_index , test_index in kfold.split(X):  # for문에 의해서 k번 반복합니다. spilt()에 의해 k개의 학습셋, 테스트셋으로 분리됩니다.\n",
    "    X_train , X_test = X.iloc[train_index,:], X.iloc[test_index,:]  \n",
    "    y_train , y_test = y.iloc[train_index], y.iloc[test_index]\n",
    "\n",
    "    model = model_fn()\n",
    "    model.compile(loss='binary_crossentropy', optimizer='adam', metrics=['accuracy'])\n",
    "    history=model.fit(X_train, y_train, epochs=200, batch_size=10, verbose=0) \n",
    "    \n",
    "    accuracy = model.evaluate(X_test, y_test)[1]  #정확도를 구합니다.\n",
    "    acc_score.append(accuracy)  #정확도 리스트에 저장합니다.\n",
    "\n",
    "#k번 실시된 정확도의 평균을 구합니다.\n",
    "avg_acc_score = sum(acc_score)/k\n",
    "\n",
    "#결과를 출력합니다.\n",
    "print('정확도:', acc_score)\n",
    "print('정확도 평균:', avg_acc_score)"
   ]
  },
  {
   "cell_type": "code",
   "execution_count": null,
   "metadata": {},
   "outputs": [],
   "source": []
  }
 ],
 "metadata": {
  "kernelspec": {
   "display_name": "Python 3 (ipykernel)",
   "language": "python",
   "name": "python3"
  },
  "language_info": {
   "codemirror_mode": {
    "name": "ipython",
    "version": 3
   },
   "file_extension": ".py",
   "mimetype": "text/x-python",
   "name": "python",
   "nbconvert_exporter": "python",
   "pygments_lexer": "ipython3",
   "version": "3.8.12"
  }
 },
 "nbformat": 4,
 "nbformat_minor": 2
}
