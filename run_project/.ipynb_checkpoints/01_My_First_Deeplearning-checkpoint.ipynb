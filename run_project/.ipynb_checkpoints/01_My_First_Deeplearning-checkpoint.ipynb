{
 "cells": [
  {
   "cell_type": "markdown",
   "metadata": {},
   "source": [
    "[<img style=\"float: right;\" src=\"https://raw.githubusercontent.com/taehojo/taehojo.github.io/master/assets/images/linktocolab.png\" /> ](https://colab.research.google.com/github/taehojo/deeplearning-for-everyone-3rd/blob/master/run_project/01_My_First_Deeplearning.ipynbb)"
   ]
  },
  {
   "cell_type": "markdown",
   "metadata": {},
   "source": [
    "# <나의 첫 딥러닝>"
   ]
  },
  {
   "cell_type": "markdown",
   "metadata": {},
   "source": [
    "## 10장 모델 설계하기 - 폐암 수술 환자의 생존율 예측 \n",
    "\n",
    "  (2장 딥러닝 코드 미리보기)"
   ]
  },
  {
   "cell_type": "markdown",
   "metadata": {},
   "source": [
    "### 1. 환경 준비 "
   ]
  },
  {
   "cell_type": "code",
   "execution_count": 1,
   "metadata": {},
   "outputs": [],
   "source": [
    "from tensorflow.keras.models import Sequential  # 텐서플로의 케라스 API에서 필요한 함수들을 불러 옵니다.\n",
    "from tensorflow.keras.layers import Dense       # 데이터를 다루는데 필요한 라이브러리를 불러옵니다.\n",
    "import numpy as np"
   ]
  },
  {
   "cell_type": "markdown",
   "metadata": {},
   "source": [
    "### 2. 데이터 준비"
   ]
  },
  {
   "cell_type": "code",
   "execution_count": 4,
   "metadata": {},
   "outputs": [],
   "source": [
    "Data_set = np.loadtxt(\"../data/ThoraricSurgery3.csv\", delimiter=\",\") # 준비된 수술 환자 데이터를 불러옵니다.\n",
    "X = Data_set[:,0:16]                                                   # 환자의 진찰 기록을 X로 지정합니다.\n",
    "y = Data_set[:,16]                                                     # 수술 후 사망/생존 여부를 y로 지정합니다."
   ]
  },
  {
   "cell_type": "code",
   "execution_count": 5,
   "metadata": {},
   "outputs": [
    {
     "data": {
      "text/plain": [
       "array([[ 2.  ,  2.88,  2.16, ...,  1.  ,  0.  , 60.  ],\n",
       "       [ 3.  ,  3.4 ,  1.88, ...,  1.  ,  0.  , 51.  ],\n",
       "       [ 3.  ,  2.76,  2.08, ...,  1.  ,  0.  , 59.  ],\n",
       "       ...,\n",
       "       [ 3.  ,  3.04,  2.08, ...,  0.  ,  0.  , 52.  ],\n",
       "       [ 3.  ,  1.96,  1.68, ...,  1.  ,  0.  , 79.  ],\n",
       "       [ 3.  ,  4.72,  3.56, ...,  1.  ,  0.  , 51.  ]])"
      ]
     },
     "execution_count": 5,
     "metadata": {},
     "output_type": "execute_result"
    }
   ],
   "source": [
    "X"
   ]
  },
  {
   "cell_type": "markdown",
   "metadata": {},
   "source": [
    "### 3. 구조 결정 "
   ]
  },
  {
   "cell_type": "code",
   "execution_count": 8,
   "metadata": {},
   "outputs": [],
   "source": [
    "model = Sequential()                                                   # 딥러닝 모델의 구조를 결정합니다.\n",
    "model.add(Dense(30, input_dim=16, activation='relu'))\n",
    "model.add(Dense(1, activation='sigmoid'))"
   ]
  },
  {
   "cell_type": "markdown",
   "metadata": {},
   "source": [
    "### 4. 모델 실행 "
   ]
  },
  {
   "cell_type": "code",
   "execution_count": 9,
   "metadata": {},
   "outputs": [
    {
     "name": "stdout",
     "output_type": "stream",
     "text": [
      "Epoch 1/5\n",
      "28/28 [==============================] - 2s 2ms/step - loss: 1.3714 - accuracy: 0.5745\n",
      "Epoch 2/5\n",
      "28/28 [==============================] - 0s 2ms/step - loss: 0.5442 - accuracy: 0.8511\n",
      "Epoch 3/5\n",
      "28/28 [==============================] - 0s 2ms/step - loss: 0.4922 - accuracy: 0.8511\n",
      "Epoch 4/5\n",
      "28/28 [==============================] - 0s 2ms/step - loss: 0.4921 - accuracy: 0.8511\n",
      "Epoch 5/5\n",
      "28/28 [==============================] - 0s 2ms/step - loss: 0.4753 - accuracy: 0.8511\n"
     ]
    }
   ],
   "source": [
    "model.compile(loss='binary_crossentropy', optimizer='adam', metrics=['accuracy'])  # 딥러닝 모델을 실행합니다.\n",
    "history=model.fit(X, y, epochs=5, batch_size=17)"
   ]
  },
  {
   "cell_type": "code",
   "execution_count": null,
   "metadata": {},
   "outputs": [],
   "source": []
  }
 ],
 "metadata": {
  "kernelspec": {
   "display_name": "Python 3 (ipykernel)",
   "language": "python",
   "name": "python3"
  },
  "language_info": {
   "codemirror_mode": {
    "name": "ipython",
    "version": 3
   },
   "file_extension": ".py",
   "mimetype": "text/x-python",
   "name": "python",
   "nbconvert_exporter": "python",
   "pygments_lexer": "ipython3",
   "version": "3.8.12"
  }
 },
 "nbformat": 4,
 "nbformat_minor": 2
}
