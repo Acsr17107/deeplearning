{
 "cells": [
  {
   "cell_type": "markdown",
   "metadata": {},
   "source": [
    "[<img style=\"float: right;\" src=\"https://raw.githubusercontent.com/taehojo/taehojo.github.io/master/assets/images/linktocolab.png\" /> ](https://colab.research.google.com/github/taehojo/deeplearning_for_everyone_3rd/blob/master/run_project/13_MNIST_MLP.ipynb)"
   ]
  },
  {
   "cell_type": "markdown",
   "metadata": {},
   "source": [
    "# 16장 이미지 인식의 꽃, 컨볼루션 뉴럴 네트워크(CNN)"
   ]
  },
  {
   "cell_type": "markdown",
   "metadata": {},
   "source": [
    "## 2. 딥러닝 기본 프레임 만들기 "
   ]
  },
  {
   "cell_type": "code",
   "execution_count": 1,
   "metadata": {},
   "outputs": [
    {
     "name": "stdout",
     "output_type": "stream",
     "text": [
      "Model: \"sequential\"\n",
      "_________________________________________________________________\n",
      "Layer (type)                 Output Shape              Param #   \n",
      "=================================================================\n",
      "dense (Dense)                (None, 512)               401920    \n",
      "_________________________________________________________________\n",
      "dense_1 (Dense)              (None, 10)                5130      \n",
      "=================================================================\n",
      "Total params: 407,050\n",
      "Trainable params: 407,050\n",
      "Non-trainable params: 0\n",
      "_________________________________________________________________\n"
     ]
    }
   ],
   "source": [
    "from tensorflow.keras.models import Sequential\n",
    "from tensorflow.keras.layers import Dense\n",
    "from tensorflow.keras.callbacks import ModelCheckpoint,EarlyStopping\n",
    "from tensorflow.keras.datasets import mnist\n",
    "from tensorflow.keras.utils import to_categorical\n",
    "\n",
    "import matplotlib.pyplot as plt\n",
    "import numpy as np\n",
    "import os\n",
    "\n",
    "# MNIST 데이터를 불러옵니다. \n",
    "(X_train, y_train), (X_test, y_test) = mnist.load_data()\n",
    "\n",
    "#차원 변환 후, 테스트셋과 학습셋으로 나누어 줍니다.\n",
    "X_train = X_train.reshape(X_train.shape[0], 784).astype('float32') / 255\n",
    "X_test = X_test.reshape(X_test.shape[0], 784).astype('float32') / 255\n",
    "\n",
    "y_train = to_categorical(y_train, 10)\n",
    "y_test = to_categorical(y_test, 10)\n",
    "\n",
    "# 모델 구조를 설정합니다.\n",
    "model = Sequential()\n",
    "model.add(Dense(512, input_dim=784, activation='relu'))\n",
    "model.add(Dense(10, activation='softmax'))\n",
    "model.summary()"
   ]
  },
  {
   "cell_type": "code",
   "execution_count": 2,
   "metadata": {},
   "outputs": [
    {
     "name": "stdout",
     "output_type": "stream",
     "text": [
      "\n",
      "Epoch 00001: val_loss improved from inf to 0.19434, saving model to ./model\\MNIST_MLP.hdf5\n",
      "\n",
      "Epoch 00002: val_loss improved from 0.19434 to 0.13753, saving model to ./model\\MNIST_MLP.hdf5\n",
      "\n",
      "Epoch 00003: val_loss improved from 0.13753 to 0.11281, saving model to ./model\\MNIST_MLP.hdf5\n",
      "\n",
      "Epoch 00004: val_loss improved from 0.11281 to 0.10379, saving model to ./model\\MNIST_MLP.hdf5\n",
      "\n",
      "Epoch 00005: val_loss improved from 0.10379 to 0.09528, saving model to ./model\\MNIST_MLP.hdf5\n",
      "\n",
      "Epoch 00006: val_loss improved from 0.09528 to 0.09290, saving model to ./model\\MNIST_MLP.hdf5\n",
      "\n",
      "Epoch 00007: val_loss improved from 0.09290 to 0.08969, saving model to ./model\\MNIST_MLP.hdf5\n",
      "\n",
      "Epoch 00008: val_loss improved from 0.08969 to 0.08337, saving model to ./model\\MNIST_MLP.hdf5\n",
      "\n",
      "Epoch 00009: val_loss did not improve from 0.08337\n",
      "\n",
      "Epoch 00010: val_loss did not improve from 0.08337\n",
      "\n",
      "Epoch 00011: val_loss did not improve from 0.08337\n",
      "\n",
      "Epoch 00012: val_loss did not improve from 0.08337\n",
      "\n",
      "Epoch 00013: val_loss improved from 0.08337 to 0.08168, saving model to ./model\\MNIST_MLP.hdf5\n",
      "\n",
      "Epoch 00014: val_loss did not improve from 0.08168\n",
      "\n",
      "Epoch 00015: val_loss did not improve from 0.08168\n",
      "\n",
      "Epoch 00016: val_loss did not improve from 0.08168\n",
      "\n",
      "Epoch 00017: val_loss did not improve from 0.08168\n",
      "\n",
      "Epoch 00018: val_loss did not improve from 0.08168\n",
      "\n",
      "Epoch 00019: val_loss did not improve from 0.08168\n",
      "\n",
      "Epoch 00020: val_loss did not improve from 0.08168\n",
      "\n",
      "Epoch 00021: val_loss did not improve from 0.08168\n",
      "\n",
      "Epoch 00022: val_loss did not improve from 0.08168\n",
      "\n",
      "Epoch 00023: val_loss did not improve from 0.08168\n",
      "313/313 [==============================] - 0s 1ms/step - loss: 0.0725 - accuracy: 0.9823\n",
      "\n",
      " Test Accuracy: 0.9823\n"
     ]
    }
   ],
   "source": [
    "# 모델 실행 환경을 설정합니다.\n",
    "model.compile(loss='categorical_crossentropy', optimizer='adam', metrics=['accuracy'])\n",
    "\n",
    "# 모델 최적화를 위한 설정구간입니다.\n",
    "MODEL_DIR = '../data/model/'\n",
    "if not os.path.exists(MODEL_DIR):\n",
    "    os.mkdir(MODEL_DIR)\n",
    "\n",
    "modelpath=\"../data/model/MNIST_MLP.hdf5\"\n",
    "checkpointer = ModelCheckpoint(filepath=modelpath, monitor='val_loss', verbose=1, save_best_only=True)\n",
    "early_stopping_callback = EarlyStopping(monitor='val_loss', patience=10)\n",
    "\n",
    "# 모델을 실행합니다.\n",
    "history = model.fit(X_train, y_train, validation_split=0.25, epochs=30, batch_size=200, verbose=0, callbacks=[early_stopping_callback,checkpointer])\n",
    "\n",
    "# 테스트 정확도를 출력합니다.\n",
    "print(\"\\n Test Accuracy: %.4f\" % (model.evaluate(X_test, y_test)[1]))\n"
   ]
  },
  {
   "cell_type": "code",
   "execution_count": 3,
   "metadata": {},
   "outputs": [
    {
     "data": {
      "image/png": "[encoded data removed]",
      "text/plain": [
       "<Figure size 432x288 with 1 Axes>"
      ]
     },
     "metadata": {
      "needs_background": "light"
     },
     "output_type": "display_data"
    }
   ],
   "source": [
    "# 검증셋과 학습셋의 오차를 저장합니다. \n",
    "y_vloss = history.history['val_loss']\n",
    "y_loss = history.history['loss']\n",
    "\n",
    "# 그래프로 표현해 봅니다.\n",
    "x_len = np.arange(len(y_loss))\n",
    "plt.plot(x_len, y_vloss, marker='.', c=\"red\", label='Testset_loss')\n",
    "plt.plot(x_len, y_loss, marker='.', c=\"blue\", label='Trainset_loss')\n",
    "\n",
    "# 그래프에 그리드를 주고 레이블을 표시해 보겠습니다.\n",
    "plt.legend(loc='upper right')\n",
    "plt.grid()\n",
    "plt.xlabel('epoch')\n",
    "plt.ylabel('loss')\n",
    "plt.show()"
   ]
  }
 ],
 "metadata": {
  "kernelspec": {
   "display_name": "Python 3 (ipykernel)",
   "language": "python",
   "name": "python3"
  },
  "language_info": {
   "codemirror_mode": {
    "name": "ipython",
    "version": 3
   },
   "file_extension": ".py",
   "mimetype": "text/x-python",
   "name": "python",
   "nbconvert_exporter": "python",
   "pygments_lexer": "ipython3",
   "version": "3.8.12"
  }
 },
 "nbformat": 4,
 "nbformat_minor": 2
}
